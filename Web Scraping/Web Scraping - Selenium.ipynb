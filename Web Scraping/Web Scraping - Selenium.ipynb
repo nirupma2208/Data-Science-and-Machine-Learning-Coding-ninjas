{
 "cells": [
  {
   "cell_type": "code",
   "execution_count": null,
   "id": "f6516882",
   "metadata": {},
   "outputs": [],
   "source": [
    "!pip install selenium"
   ]
  },
  {
   "cell_type": "code",
   "execution_count": null,
   "id": "ec67f214",
   "metadata": {},
   "outputs": [],
   "source": [
    "!pip install webdriver_manager"
   ]
  },
  {
   "cell_type": "code",
   "execution_count": 2,
   "id": "2065e764",
   "metadata": {},
   "outputs": [],
   "source": [
    "from selenium import webdriver"
   ]
  },
  {
   "cell_type": "code",
   "execution_count": null,
   "id": "ccbfdda8",
   "metadata": {},
   "outputs": [],
   "source": []
  },
  {
   "cell_type": "markdown",
   "id": "d3fe2908",
   "metadata": {},
   "source": [
    "# Click on Advanced Algorithms\n",
    "    Open this website :\n",
    "    Click on “Advanced algorithms”"
   ]
  },
  {
   "cell_type": "code",
   "execution_count": 5,
   "id": "be5a923d",
   "metadata": {},
   "outputs": [],
   "source": [
    "from selenium.webdriver.common.by import By"
   ]
  },
  {
   "cell_type": "code",
   "execution_count": 20,
   "id": "4f331f0b",
   "metadata": {},
   "outputs": [],
   "source": [
    "url = 'https://www.codingninjas.com/codestudio'"
   ]
  },
  {
   "cell_type": "code",
   "execution_count": null,
   "id": "3fbd5a50",
   "metadata": {},
   "outputs": [],
   "source": [
    "driver = webdriver.Chrome(executable_path='chromedriver')\n",
    "driver.get(url)\n",
    "driver.find_element(By.PARTIAL_LINK_TEXT,'Advanced').click()\n"
   ]
  },
  {
   "cell_type": "markdown",
   "id": "1d1276c0",
   "metadata": {},
   "source": [
    "# Title of Google\n",
    "    Open Google and Perform the following Steps :\n",
    "    1.Click on a link that has string “mage” present in it.\n",
    "    2.Find the title of the new page.\n",
    "    3.Go back to the previous page.\n"
   ]
  },
  {
   "cell_type": "code",
   "execution_count": 49,
   "id": "f011900e",
   "metadata": {},
   "outputs": [],
   "source": [
    "driver = webdriver.Chrome(executable_path='chromedriver')\n",
    "driver.get('https://www.google.com/')"
   ]
  },
  {
   "cell_type": "code",
   "execution_count": 51,
   "id": "d2a4127d",
   "metadata": {},
   "outputs": [],
   "source": [
    "driver.find_element(By.PARTIAL_LINK_TEXT,'mage').click()"
   ]
  },
  {
   "cell_type": "code",
   "execution_count": 52,
   "id": "98b3c677",
   "metadata": {},
   "outputs": [
    {
     "name": "stdout",
     "output_type": "stream",
     "text": [
      "Google Images\n"
     ]
    }
   ],
   "source": [
    "print(driver.title)\n",
    "driver.back()\n",
    "driver.close()"
   ]
  },
  {
   "cell_type": "markdown",
   "id": "713745d6",
   "metadata": {},
   "source": [
    "# Find address\n",
    "    From this Link :\n",
    "    Find the element with <address> tag on the %page"
   ]
  },
  {
   "cell_type": "code",
   "execution_count": 53,
   "id": "2dd29061",
   "metadata": {},
   "outputs": [],
   "source": [
    "driver = webdriver.Chrome(executable_path='chromedriver')\n",
    "driver.get('https://codingninjas.com/courses')"
   ]
  },
  {
   "cell_type": "code",
   "execution_count": null,
   "id": "fa376b50",
   "metadata": {},
   "outputs": [],
   "source": [
    "driver.find_element(By.TAG_NAME,'address')"
   ]
  },
  {
   "cell_type": "markdown",
   "id": "acc17db1",
   "metadata": {},
   "source": [
    "# Is Firstname Enabled ?\n",
    "    From Facebook Sign Up Page :\n",
    "    Locate text box with name=”firstname”. Check if it is enabled or not.\n",
    "    NOTE: YOU NEED TO LOGOUT FROM YOUR FACEBOOK ACCOUNT TO ACCESS THE SIGN UP PAGE."
   ]
  },
  {
   "cell_type": "code",
   "execution_count": 61,
   "id": "3f1fbe42",
   "metadata": {},
   "outputs": [],
   "source": [
    "driver = webdriver.Chrome(executable_path='chromedriver')\n",
    "driver.get('https://www.facebook.com/r.php')"
   ]
  },
  {
   "cell_type": "code",
   "execution_count": 66,
   "id": "ca98a82f",
   "metadata": {},
   "outputs": [
    {
     "data": {
      "text/plain": [
       "True"
      ]
     },
     "execution_count": 66,
     "metadata": {},
     "output_type": "execute_result"
    }
   ],
   "source": [
    "driver.find_element(By.CLASS_NAME,'placeholder').is_enabled()"
   ]
  },
  {
   "cell_type": "markdown",
   "id": "afe83994",
   "metadata": {},
   "source": [
    "# Facebook Click\n",
    "    Send Feedback\n",
    "    On Facebook Sign Up Page :\n",
    "    What happens when we click on element with id = ‘day’?\n",
    "    NOTE: YOU NEED TO LOGOUT FROM YOUR FACEBOOK ACCOUNT TO ACCESS THE SIGN UP PAGE."
   ]
  },
  {
   "cell_type": "code",
   "execution_count": 69,
   "id": "835339e4",
   "metadata": {},
   "outputs": [],
   "source": [
    "import time"
   ]
  },
  {
   "cell_type": "code",
   "execution_count": 70,
   "id": "f3bbd999",
   "metadata": {},
   "outputs": [],
   "source": [
    "driver = webdriver.Chrome(executable_path='chromedriver')\n",
    "driver.get('https://www.facebook.com/r.php')\n",
    "time.sleep(1)\n",
    "driver.find_element(By.ID,'day').click()"
   ]
  },
  {
   "cell_type": "markdown",
   "id": "5d580bae",
   "metadata": {},
   "source": [
    "# Select Female\n",
    "    Open Facebook Sign Up and Perform the following Steps :\n",
    "    1.Check if Radio button with female is selected or not.\n",
    "    2.Select it.\n",
    "    3.Check again if it now selected or not.\n",
    "    NOTE: YOU NEED TO LOGOUT FROM YOUR FACEBOOK ACCOUNT TO ACCESS THE SIGN UP PAGE."
   ]
  },
  {
   "cell_type": "code",
   "execution_count": 77,
   "id": "d221908a",
   "metadata": {},
   "outputs": [
    {
     "name": "stdout",
     "output_type": "stream",
     "text": [
      "False\n",
      "True\n"
     ]
    }
   ],
   "source": [
    "driver = webdriver.Chrome(executable_path='chromedriver')\n",
    "driver.get('https://www.facebook.com/r.php')\n",
    "time.sleep(1)\n",
    "print(driver.find_element(By.NAME,'sex').is_selected())\n",
    "driver.find_element(By.NAME,'sex').click()\n",
    "print(driver.find_element(By.NAME,'sex').is_selected())"
   ]
  },
  {
   "cell_type": "markdown",
   "id": "c47b7ec1",
   "metadata": {},
   "source": [
    "# NGA 1\n",
    "    Answer the question based on this Link :\n",
    "    Which of the following is/are the correct xpath to find the name of the 5th artist?"
   ]
  },
  {
   "cell_type": "code",
   "execution_count": 4,
   "id": "f4761c5f",
   "metadata": {},
   "outputs": [],
   "source": [
    "driver = webdriver.Chrome(executable_path='chromedriver')\n",
    "driver.get('https://www.nga.gov/collection/artists.html')\n"
   ]
  },
  {
   "cell_type": "code",
   "execution_count": 7,
   "id": "06790aab",
   "metadata": {},
   "outputs": [
    {
     "data": {
      "text/plain": [
       "'<li><div class=\"return-main\"><span class=\"category\">Artist</span><dl class=\"return-artist\"><dt class=\"title\"><a href=\"/content/ngaweb/collection/artist-info.49955.html\">A. Brett &amp; Company</a></dt><dd class=\"lifespan\">American</dd></dl></div></li>'"
      ]
     },
     "execution_count": 7,
     "metadata": {},
     "output_type": "execute_result"
    }
   ],
   "source": [
    "driver.find_element(By.XPATH,'//ul[@class=\"returns\"]/li[5]').get_attribute('outerHTML')\n",
    "\n"
   ]
  },
  {
   "cell_type": "markdown",
   "id": "c7e7a39e",
   "metadata": {},
   "source": [
    "# Login to Gmail\n",
    "    Open Gmail,Enter your login id and password and login to your account."
   ]
  },
  {
   "cell_type": "code",
   "execution_count": null,
   "id": "20ade642",
   "metadata": {},
   "outputs": [],
   "source": [
    "from selenium import webdriver\n",
    "import time\n",
    "\n",
    "driver = webdriver.Chrome(executable_path = 'chromedriver')\n",
    "driver.get('https://mail.google.com/')\n",
    "\n",
    "email_id = 'Enter Your Email ID'\n",
    "password = 'Password'\n",
    "\n",
    "email = driver.find_element_by_id('identifierId')\n",
    "email.send_keys(email_id)\n",
    "driver.find_element_by_id('identifierNext').click()\n",
    "time.sleep(5)\n",
    "\n",
    "pwd = driver.find_element_by_name('password')\n",
    "pwd.send_keys(password)\n",
    "driver.find_element_by_id('passwordNext').click()\n",
    "time.sleep(5)\n",
    "\n",
    "driver.close()"
   ]
  },
  {
   "cell_type": "code",
   "execution_count": 28,
   "id": "cb8e7520",
   "metadata": {},
   "outputs": [],
   "source": []
  },
  {
   "cell_type": "code",
   "execution_count": null,
   "id": "74b077bd",
   "metadata": {},
   "outputs": [],
   "source": []
  },
  {
   "cell_type": "code",
   "execution_count": null,
   "id": "fc215f30",
   "metadata": {},
   "outputs": [],
   "source": []
  },
  {
   "cell_type": "code",
   "execution_count": null,
   "id": "c1ce93a9",
   "metadata": {},
   "outputs": [],
   "source": []
  }
 ],
 "metadata": {
  "kernelspec": {
   "display_name": "Python 3 (ipykernel)",
   "language": "python",
   "name": "python3"
  },
  "language_info": {
   "codemirror_mode": {
    "name": "ipython",
    "version": 3
   },
   "file_extension": ".py",
   "mimetype": "text/x-python",
   "name": "python",
   "nbconvert_exporter": "python",
   "pygments_lexer": "ipython3",
   "version": "3.10.4"
  }
 },
 "nbformat": 4,
 "nbformat_minor": 5
}
