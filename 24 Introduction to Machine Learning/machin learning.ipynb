{
 "cells": [
  {
   "cell_type": "markdown",
   "metadata": {
    "id": "bDCg55zRqXPw"
   },
   "source": [
    "# **Introduction to Machine Learning**"
   ]
  },
  {
   "cell_type": "markdown",
   "metadata": {
    "id": "NWsc8ad_qXQY"
   },
   "source": [
    "Machine learning (ML) is a category of an algorithm that allows software applications to become more accurate in predicting \n",
    "outcomes without being explicitly programmed. \n",
    "The basic premise of machine learning is to build algorithms that can receive input data and use statistical analysis to predict an output while updating outputs as new data becomes available."
   ]
  },
  {
   "cell_type": "markdown",
   "metadata": {
    "id": "yiM0sxSKqXQc"
   },
   "source": [
    "The process starts with feeding good quality data and then training our machines by building machine learning models using the data and different algorithms. The choice of algorithms depends on what type of data do we have and what kind of task we are trying to automate."
   ]
  },
  {
   "cell_type": "markdown",
   "metadata": {
    "id": "GxOCTKP9qXQa"
   },
   "source": [
    "Machine learning is defined as the “Field of study that gives computers the capability to learn without being explicitly programmed”."
   ]
  },
  {
   "cell_type": "markdown",
   "metadata": {
    "id": "WAe580RAqXQd"
   },
   "source": [
    "<img src=\"https://files.codingninjas.in/untitled-document-2-7313.jpg\" width=\"700\">"
   ]
  },
  {
   "cell_type": "markdown",
   "metadata": {
    "id": "LxC5BDJ_wquA"
   },
   "source": [
    "# **Applications of Machine Learning**"
   ]
  },
  {
   "cell_type": "markdown",
   "metadata": {
    "id": "DKuLDyp3w1uS"
   },
   "source": [
    "We are using machine learning in our daily life even without knowing it such as Google Maps, Google assistant, Alexa, etc.\n",
    "Below are some most trending real-world applications of Machine Learning:\n",
    "1. Image Recognition\n",
    "2. Speech Recognition\n",
    "3. Product recommendations\n",
    "4. Self-driving cars\n",
    "5. Virtual Personal Assistant\n",
    "6. Automatic Language Translation"
   ]
  },
  {
   "cell_type": "markdown",
   "metadata": {
    "id": "dKVXdsgCqXQe"
   },
   "source": [
    "# **Types of Machine Learning**"
   ]
  },
  {
   "cell_type": "markdown",
   "metadata": {
    "id": "w23LnlbxqXQf"
   },
   "source": [
    " Machine learning implementations are classified into three major categories\n",
    "     1. Supervised Learning\n",
    "     2. Unsupervised Learning\n",
    "     3. Reinforcement learning\n",
    " "
   ]
  },
  {
   "cell_type": "markdown",
   "metadata": {
    "id": "ad-usPEDqXQg"
   },
   "source": [
    "## **Supervised Learning**"
   ]
  },
  {
   "cell_type": "markdown",
   "metadata": {
    "id": "kbBOaC4NqXQh"
   },
   "source": [
    "Supervised learning is based on supervision. The example of supervised learning is spam filtering."
   ]
  },
  {
   "cell_type": "markdown",
   "metadata": {
    "id": "bG6eagQ1qXQg"
   },
   "source": [
    "Supervised learning is an approach where the program is given labeled input data and the expected output.The model is trained until it can detect the underlying patterns and relationships, enabling it to yield good results when presented with never-before-seen data. \"Supervised learning is a technique in which we teach or train the machine using data which is well labeled\".\n"
   ]
  },
  {
   "cell_type": "markdown",
   "metadata": {
    "id": "sYVFPddaxjbh"
   },
   "source": [
    "### **Types of Supervised Learning**"
   ]
  },
  {
   "cell_type": "markdown",
   "metadata": {
    "id": "b27DVYVrxpMk"
   },
   "source": [
    "Supervised learning can be grouped further in two categories of algorithms:\n",
    " 1. **Classification** - Classification algorithms are used to predict or classify items into discrete valued groups such as Male or Female, True or False, Spam or Not Spam, etc.\n",
    "For instance, spam filtering algorithm is a classification problem where the task is to identify whether the mail is spam or not. \n",
    "A classification algorithm tries to determine the class or the category of the data it is presented with.\n",
    "\n",
    " 2. **Regression** - Regression tasks are different, as they expect the model to predict continuous data. For instance,       predicting click rates in online ads, predicting real estate prices or determining how much a customer would                    be willing to pay for a certain product."
   ]
  },
  {
   "cell_type": "markdown",
   "metadata": {
    "id": "7PSakOGiqXQl"
   },
   "source": [
    "### **Using Boston Housing Dataset**"
   ]
  },
  {
   "cell_type": "markdown",
   "metadata": {
    "id": "k5_cxIewqXQk"
   },
   "source": [
    "**Step 1** - Gathering data:\n",
    "        This step includes collecting the data because the quality and quantity of data that you gather will directly determine         how good your predictive model can be\n",
    "\n",
    "**Step 2** - Data Preprocessing:\n",
    "1. Cleaning the raw data -\n",
    "The data is collected in the real world and is converted to a clean data set. In other words,whenever the data is               gathered from different sources it is collected in a raw format and this data isn’t feasible for the analysis.\n",
    "Therefore, certain steps are executed to convert the data into a small clean data set.\n",
    "2. Missing Data - \n",
    "Missing data can be found when it is not continuously created or due to technical issues in the                                 application\n",
    "3. Conversion of data -\n",
    "Machine Learning models can only handle numeric features, hence categorical and ordinal data must be                             somehow converted into numeric features.\n",
    "\n",
    "**Step 3** - Training the Data:\n",
    "        This stage always begins by splitting the data set into two parts, training data and testing data. The training data             will be used to build and analyze the model.\n",
    "\n",
    "**Step 4** - Evalutaion:\n",
    "        After building a model by using the training data set, it is finally time to put the model to a test. The testing data           set is used to check the efficiency of the model and how accurately it can predict the outcome.\n",
    "        \n"
   ]
  },
  {
   "cell_type": "code",
   "execution_count": null,
   "metadata": {
    "id": "3wEyj3REqXQn"
   },
   "outputs": [],
   "source": [
    "from sklearn import datasets"
   ]
  },
  {
   "cell_type": "markdown",
   "metadata": {
    "id": "v-n7UyNHqXQm"
   },
   "source": [
    "First step is to gather the data. Here we will use the Boston Housing Dataset. It is present in the datasets of sklearn. The dataset comes from the real estate industry in Boston (US). This is a regression problem. The data has 506 rows and 14 columns."
   ]
  },
  {
   "cell_type": "code",
   "execution_count": null,
   "metadata": {
    "id": "3PK48FFIqXQo"
   },
   "outputs": [],
   "source": [
    "# Loading the dataset\n",
    "boston = datasets.load_boston() \n",
    "X = boston.data\n",
    "Y = boston.target"
   ]
  },
  {
   "cell_type": "code",
   "execution_count": null,
   "metadata": {
    "colab": {
     "base_uri": "https://localhost:8080/"
    },
    "id": "XPtn-d1wqXQo",
    "outputId": "339b7a01-0aa2-4efa-94b8-c14185a2c992"
   },
   "outputs": [
    {
     "data": {
      "text/plain": [
       "(506, 13)"
      ]
     },
     "execution_count": 4,
     "metadata": {
      "tags": []
     },
     "output_type": "execute_result"
    }
   ],
   "source": [
    "X.shape"
   ]
  },
  {
   "cell_type": "code",
   "execution_count": null,
   "metadata": {
    "id": "mieaHVa3qXQr"
   },
   "outputs": [],
   "source": [
    "import pandas as pd\n",
    "df = pd.DataFrame(X)"
   ]
  },
  {
   "cell_type": "code",
   "execution_count": null,
   "metadata": {
    "colab": {
     "base_uri": "https://localhost:8080/",
     "height": 304
    },
    "id": "9bIFCxiTqXQr",
    "outputId": "1697e1fe-2639-427e-eb15-738095da2c79"
   },
   "outputs": [
    {
     "data": {
      "text/html": [
       "<div>\n",
       "<style scoped>\n",
       "    .dataframe tbody tr th:only-of-type {\n",
       "        vertical-align: middle;\n",
       "    }\n",
       "\n",
       "    .dataframe tbody tr th {\n",
       "        vertical-align: top;\n",
       "    }\n",
       "\n",
       "    .dataframe thead th {\n",
       "        text-align: right;\n",
       "    }\n",
       "</style>\n",
       "<table border=\"1\" class=\"dataframe\">\n",
       "  <thead>\n",
       "    <tr style=\"text-align: right;\">\n",
       "      <th></th>\n",
       "      <th>CRIM</th>\n",
       "      <th>ZN</th>\n",
       "      <th>INDUS</th>\n",
       "      <th>CHAS</th>\n",
       "      <th>NOX</th>\n",
       "      <th>RM</th>\n",
       "      <th>AGE</th>\n",
       "      <th>DIS</th>\n",
       "      <th>RAD</th>\n",
       "      <th>TAX</th>\n",
       "      <th>PTRATIO</th>\n",
       "      <th>B</th>\n",
       "      <th>LSTAT</th>\n",
       "    </tr>\n",
       "  </thead>\n",
       "  <tbody>\n",
       "    <tr>\n",
       "      <th>count</th>\n",
       "      <td>506.000000</td>\n",
       "      <td>506.000000</td>\n",
       "      <td>506.000000</td>\n",
       "      <td>506.000000</td>\n",
       "      <td>506.000000</td>\n",
       "      <td>506.000000</td>\n",
       "      <td>506.000000</td>\n",
       "      <td>506.000000</td>\n",
       "      <td>506.000000</td>\n",
       "      <td>506.000000</td>\n",
       "      <td>506.000000</td>\n",
       "      <td>506.000000</td>\n",
       "      <td>506.000000</td>\n",
       "    </tr>\n",
       "    <tr>\n",
       "      <th>mean</th>\n",
       "      <td>3.613524</td>\n",
       "      <td>11.363636</td>\n",
       "      <td>11.136779</td>\n",
       "      <td>0.069170</td>\n",
       "      <td>0.554695</td>\n",
       "      <td>6.284634</td>\n",
       "      <td>68.574901</td>\n",
       "      <td>3.795043</td>\n",
       "      <td>9.549407</td>\n",
       "      <td>408.237154</td>\n",
       "      <td>18.455534</td>\n",
       "      <td>356.674032</td>\n",
       "      <td>12.653063</td>\n",
       "    </tr>\n",
       "    <tr>\n",
       "      <th>std</th>\n",
       "      <td>8.601545</td>\n",
       "      <td>23.322453</td>\n",
       "      <td>6.860353</td>\n",
       "      <td>0.253994</td>\n",
       "      <td>0.115878</td>\n",
       "      <td>0.702617</td>\n",
       "      <td>28.148861</td>\n",
       "      <td>2.105710</td>\n",
       "      <td>8.707259</td>\n",
       "      <td>168.537116</td>\n",
       "      <td>2.164946</td>\n",
       "      <td>91.294864</td>\n",
       "      <td>7.141062</td>\n",
       "    </tr>\n",
       "    <tr>\n",
       "      <th>min</th>\n",
       "      <td>0.006320</td>\n",
       "      <td>0.000000</td>\n",
       "      <td>0.460000</td>\n",
       "      <td>0.000000</td>\n",
       "      <td>0.385000</td>\n",
       "      <td>3.561000</td>\n",
       "      <td>2.900000</td>\n",
       "      <td>1.129600</td>\n",
       "      <td>1.000000</td>\n",
       "      <td>187.000000</td>\n",
       "      <td>12.600000</td>\n",
       "      <td>0.320000</td>\n",
       "      <td>1.730000</td>\n",
       "    </tr>\n",
       "    <tr>\n",
       "      <th>25%</th>\n",
       "      <td>0.082045</td>\n",
       "      <td>0.000000</td>\n",
       "      <td>5.190000</td>\n",
       "      <td>0.000000</td>\n",
       "      <td>0.449000</td>\n",
       "      <td>5.885500</td>\n",
       "      <td>45.025000</td>\n",
       "      <td>2.100175</td>\n",
       "      <td>4.000000</td>\n",
       "      <td>279.000000</td>\n",
       "      <td>17.400000</td>\n",
       "      <td>375.377500</td>\n",
       "      <td>6.950000</td>\n",
       "    </tr>\n",
       "    <tr>\n",
       "      <th>50%</th>\n",
       "      <td>0.256510</td>\n",
       "      <td>0.000000</td>\n",
       "      <td>9.690000</td>\n",
       "      <td>0.000000</td>\n",
       "      <td>0.538000</td>\n",
       "      <td>6.208500</td>\n",
       "      <td>77.500000</td>\n",
       "      <td>3.207450</td>\n",
       "      <td>5.000000</td>\n",
       "      <td>330.000000</td>\n",
       "      <td>19.050000</td>\n",
       "      <td>391.440000</td>\n",
       "      <td>11.360000</td>\n",
       "    </tr>\n",
       "    <tr>\n",
       "      <th>75%</th>\n",
       "      <td>3.677083</td>\n",
       "      <td>12.500000</td>\n",
       "      <td>18.100000</td>\n",
       "      <td>0.000000</td>\n",
       "      <td>0.624000</td>\n",
       "      <td>6.623500</td>\n",
       "      <td>94.075000</td>\n",
       "      <td>5.188425</td>\n",
       "      <td>24.000000</td>\n",
       "      <td>666.000000</td>\n",
       "      <td>20.200000</td>\n",
       "      <td>396.225000</td>\n",
       "      <td>16.955000</td>\n",
       "    </tr>\n",
       "    <tr>\n",
       "      <th>max</th>\n",
       "      <td>88.976200</td>\n",
       "      <td>100.000000</td>\n",
       "      <td>27.740000</td>\n",
       "      <td>1.000000</td>\n",
       "      <td>0.871000</td>\n",
       "      <td>8.780000</td>\n",
       "      <td>100.000000</td>\n",
       "      <td>12.126500</td>\n",
       "      <td>24.000000</td>\n",
       "      <td>711.000000</td>\n",
       "      <td>22.000000</td>\n",
       "      <td>396.900000</td>\n",
       "      <td>37.970000</td>\n",
       "    </tr>\n",
       "  </tbody>\n",
       "</table>\n",
       "</div>"
      ],
      "text/plain": [
       "             CRIM          ZN       INDUS  ...     PTRATIO           B       LSTAT\n",
       "count  506.000000  506.000000  506.000000  ...  506.000000  506.000000  506.000000\n",
       "mean     3.613524   11.363636   11.136779  ...   18.455534  356.674032   12.653063\n",
       "std      8.601545   23.322453    6.860353  ...    2.164946   91.294864    7.141062\n",
       "min      0.006320    0.000000    0.460000  ...   12.600000    0.320000    1.730000\n",
       "25%      0.082045    0.000000    5.190000  ...   17.400000  375.377500    6.950000\n",
       "50%      0.256510    0.000000    9.690000  ...   19.050000  391.440000   11.360000\n",
       "75%      3.677083   12.500000   18.100000  ...   20.200000  396.225000   16.955000\n",
       "max     88.976200  100.000000   27.740000  ...   22.000000  396.900000   37.970000\n",
       "\n",
       "[8 rows x 13 columns]"
      ]
     },
     "execution_count": 6,
     "metadata": {
      "tags": []
     },
     "output_type": "execute_result"
    }
   ],
   "source": [
    "# Viewing the data in the form of a dataframe\n",
    "df.columns = boston.feature_names\n",
    "df.describe()"
   ]
  },
  {
   "cell_type": "markdown",
   "metadata": {
    "id": "Aa-xxwZUqXQt"
   },
   "source": [
    "The next step is to clean the data, but the data here is already cleaned so we will move further to the third step, which is training the model."
   ]
  },
  {
   "cell_type": "code",
   "execution_count": null,
   "metadata": {
    "id": "NoGefLWyqXQt"
   },
   "outputs": [],
   "source": [
    "# Splitting the data into test and train data\n",
    "from sklearn import model_selection\n",
    "X_train, X_test, Y_train, Y_test = model_selection.train_test_split(X, Y)"
   ]
  },
  {
   "cell_type": "code",
   "execution_count": null,
   "metadata": {
    "colab": {
     "base_uri": "https://localhost:8080/"
    },
    "id": "GLvcMnHWqXQu",
    "outputId": "3f3afb92-d4fb-48b7-9ae2-616149802885"
   },
   "outputs": [
    {
     "name": "stdout",
     "output_type": "stream",
     "text": [
      "(379, 13)\n",
      "(127, 13)\n",
      "(379,)\n",
      "(127,)\n"
     ]
    }
   ],
   "source": [
    "# Checking the shape of the data\n",
    "print(X_train.shape)\n",
    "print(X_test.shape)\n",
    "print(Y_train.shape)\n",
    "print(Y_test.shape)"
   ]
  },
  {
   "cell_type": "code",
   "execution_count": null,
   "metadata": {
    "id": "tobdNtsXqXQv"
   },
   "outputs": [],
   "source": [
    "# Using sklearn to import the classifier\n",
    "from sklearn.linear_model import LinearRegression\n",
    "alg1 = LinearRegression()"
   ]
  },
  {
   "cell_type": "code",
   "execution_count": null,
   "metadata": {
    "colab": {
     "base_uri": "https://localhost:8080/"
    },
    "id": "pF0V02RpqXQv",
    "outputId": "f3456433-1179-408b-d63e-2790e5ddef51"
   },
   "outputs": [
    {
     "data": {
      "text/plain": [
       "LinearRegression(copy_X=True, fit_intercept=True, n_jobs=None, normalize=False)"
      ]
     },
     "execution_count": 10,
     "metadata": {
      "tags": []
     },
     "output_type": "execute_result"
    }
   ],
   "source": [
    "# Fitting the data\n",
    "alg1.fit(X_train,Y_train)"
   ]
  },
  {
   "cell_type": "code",
   "execution_count": null,
   "metadata": {
    "id": "j7r6OMfmqXQw"
   },
   "outputs": [],
   "source": [
    "Y_pred = alg1.predict(X_test)"
   ]
  },
  {
   "cell_type": "markdown",
   "metadata": {
    "id": "jHjO5qTSqXQw"
   },
   "source": [
    "As our model is trained, we will now predict the output and compare it with the actual output. We will plot the actual vs predicted output \n",
    "\n"
   ]
  },
  {
   "cell_type": "code",
   "execution_count": null,
   "metadata": {
    "colab": {
     "base_uri": "https://localhost:8080/",
     "height": 283
    },
    "id": "4cGOUvy9qXQx",
    "outputId": "449ef687-ada5-459d-bfdb-a42aa3bb62c4"
   },
   "outputs": [
    {
     "data": {
      "image/png": "[encoded data removed]",
      "text/plain": [
       "<Figure size 432x288 with 1 Axes>"
      ]
     },
     "metadata": {
      "needs_background": "light",
      "tags": []
     },
     "output_type": "display_data"
    }
   ],
   "source": [
    "import matplotlib.pyplot as plt\n",
    "plt.scatter(Y_pred,Y_test)\n",
    "plt.xlabel(\"Predictions\")\n",
    "plt.ylabel(\"Testing Data\")\n",
    "plt.axis([0,40,0,40])\n",
    "plt.show()"
   ]
  },
  {
   "cell_type": "markdown",
   "metadata": {
    "id": "h-0OB4AuqXQy"
   },
   "source": [
    "# **Unsupervised Learning**"
   ]
  },
  {
   "cell_type": "markdown",
   "metadata": {
    "id": "0Y-hzhDPqXQy"
   },
   "source": [
    "Unsupervised learning is a learning method in which a machine learns without any supervision.\n",
    "The training is provided to the machine with the set of data that has not been labeled, classified, or categorized, and the algorithm needs to act on that data without any supervision. The goal of unsupervised learning is to restructure the input data into new features or a group of objects with similar patterns.\n",
    "\n",
    "Examples:\n",
    "1. Feature selection\n",
    "2. Anomaly detection\n",
    "3. Pattern recognition \n",
    "4. Data Mining"
   ]
  },
  {
   "cell_type": "markdown",
   "metadata": {
    "id": "V0TShisQqXQz"
   },
   "source": [
    "# **Reinforcement Learning**"
   ]
  },
  {
   "cell_type": "markdown",
   "metadata": {
    "id": "zLPMr-ScqXQz"
   },
   "source": [
    "Reinforcement learning is a feedback-based learning method, in which a learning agent gets a reward for each right action and gets a penalty for each wrong action. The agent learns automatically with these feedbacks and improves its performance. In reinforcement learning, the agent interacts with the environment and explores it. The goal of an agent is to get the most reward points, and hence, it improves its performance.\n",
    "\n",
    "Examples:\n",
    "1. Robotics\n",
    "2. Text Mining\n",
    "3. Trade execution"
   ]
  },
  {
   "cell_type": "code",
   "execution_count": null,
   "metadata": {
    "id": "cUSGBYun3HuR"
   },
   "outputs": [],
   "source": []
  }
 ],
 "metadata": {
  "colab": {
   "name": "Intro to Machine Learning.ipynb",
   "provenance": []
  },
  "kernelspec": {
   "display_name": "Python 3 (ipykernel)",
   "language": "python",
   "name": "python3"
  },
  "language_info": {
   "codemirror_mode": {
    "name": "ipython",
    "version": 3
   },
   "file_extension": ".py",
   "mimetype": "text/x-python",
   "name": "python",
   "nbconvert_exporter": "python",
   "pygments_lexer": "ipython3",
   "version": "3.10.4"
  }
 },
 "nbformat": 4,
 "nbformat_minor": 1
}
