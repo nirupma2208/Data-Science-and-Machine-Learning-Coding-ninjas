{
 "cells": [
  {
   "cell_type": "markdown",
   "id": "cb82c514",
   "metadata": {},
   "source": [
    "# InstaBot - Part 2"
   ]
  },
  {
   "cell_type": "code",
   "execution_count": 81,
   "id": "a0a3d38e",
   "metadata": {},
   "outputs": [],
   "source": [
    "userName='SampleID'\n",
    "Password = 'SamplePassword'"
   ]
  },
  {
   "cell_type": "code",
   "execution_count": 110,
   "id": "a6402dd3",
   "metadata": {},
   "outputs": [],
   "source": [
    "#importing important modules\n",
    "import matplotlib.pyplot as plt\n",
    "import pandas as pd\n",
    "import numpy as np\n",
    "from selenium import webdriver\n",
    "from selenium.webdriver.common.keys import Keys\n",
    "from time import sleep\n",
    "from selenium.common.exceptions import NoSuchElementException\n",
    "from selenium.common.exceptions import StaleElementReferenceException\n",
    "from selenium.common.exceptions import TimeoutException\n",
    "from selenium.webdriver.support.ui import WebDriverWait\n",
    "from selenium.webdriver.support import expected_conditions as EC\n",
    "from selenium.webdriver.common.by import By\n",
    "from selenium.webdriver.support.select import Select\n",
    "from collections import OrderedDict \n",
    "from bs4 import BeautifulSoup\n",
    "from datetime import datetime, timedelta\n",
    "from IPython.display import Video"
   ]
  },
  {
   "cell_type": "code",
   "execution_count": 85,
   "id": "5e37f449",
   "metadata": {},
   "outputs": [],
   "source": [
    "# opening the browser by giving the path of chromeDriver\n",
    "driver = webdriver.Chrome(executable_path='chromedriver')\n",
    "\n",
    "# opening instagram Login Page\n",
    "driver.get('https://www.instagram.com/accounts/login/')\n",
    "\n",
    "# initisalize explicit wait\n",
    "wait = WebDriverWait(driver,20)"
   ]
  },
  {
   "cell_type": "code",
   "execution_count": 86,
   "id": "9dadb240",
   "metadata": {},
   "outputs": [],
   "source": [
    "#Login_To_Insta() function is same as part-I. All the functionality is same as before. It is used to Login Instagram Handle\n",
    "\"\"\"\n",
    "Here I have visited the site and then I found the input fields where I will need to \n",
    "input the user name and the password and then I have passed the inputs with the\n",
    "send key function. Once these two fields are filled with correct username and password\n",
    "I just clicked on the login button which I have found using button tag then.\n",
    "\"\"\"\n",
    "\n",
    "def Login_To_Insta(userName,Password):\n",
    "\n",
    "    try:\n",
    "        \n",
    "        wait.until(EC.presence_of_element_located((By.NAME,'username'))).send_keys(userName)\n",
    "        wait.until(EC.presence_of_element_located((By.NAME,'password'))).send_keys(Password)\n",
    "        wait.until(EC.presence_of_element_located((By.CLASS_NAME,'sqdOP'))).submit()\n",
    "        wait.until(EC.presence_of_element_located((By.XPATH,'//div[@class=\"_ac8f\"]/button'))).click()\n",
    "        wait.until(EC.presence_of_element_located((By.XPATH,'//div[@class=\"_a9-z\"]/button[2]'))).click()\n",
    "        \n",
    "    except TimeoutException:\n",
    "        print(\"Something Went Wrong!\")\n",
    "        \n",
    "# Login to Instagram\n",
    "Login_To_Insta(userName,Password)"
   ]
  },
  {
   "cell_type": "code",
   "execution_count": 119,
   "id": "8a496bd8",
   "metadata": {},
   "outputs": [
    {
     "data": {
      "text/html": [
       "<video src=\"Video/V-1.mp4\" controls  width=\"1000\"  height=\"900\">\n",
       "      Your browser does not support the <code>video</code> element.\n",
       "    </video>"
      ],
      "text/plain": [
       "<IPython.core.display.Video object>"
      ]
     },
     "execution_count": 119,
     "metadata": {},
     "output_type": "execute_result"
    }
   ],
   "source": [
    "# video Representation \n",
    "Video(\"Video/V-1.mp4\",width=1000,height=900)"
   ]
  },
  {
   "cell_type": "markdown",
   "id": "ca2dd721",
   "metadata": {},
   "source": [
    "# Problem 1\n",
    "    your friend has followed a lot of different food bloggers, he needs to analyse the habits of these bloggers."
   ]
  },
  {
   "cell_type": "markdown",
   "id": "cc56b708",
   "metadata": {},
   "source": [
    "### 1. From the list of instagram handles you obtained when you searched ‘food’ in previous project. Open the first 10 handles and find the top 5 which have the highest number of followers"
   ]
  },
  {
   "cell_type": "code",
   "execution_count": 91,
   "id": "e2009121",
   "metadata": {},
   "outputs": [],
   "source": [
    "\"\"\"\n",
    "In the above cell I have already logged in so now I have found out top 10 handles with their profile links which\n",
    "will help me later to visit these user_handles after putting food in the search bar. Now I have all the profile links and we\n",
    "can simply visit.\n",
    "In this function I have passed search word 'food' and number of handle that I want to get that is 10 user handle. This Function\n",
    "is returning a dictionary having user handle and their corresponding user links.\n",
    "\"\"\"\n",
    "\n",
    "def Search(string,n):\n",
    "    User_Handle={}\n",
    "    wait.until(EC.presence_of_element_located((By.XPATH,'//div[@class=\"_acus\"]/div[4]/a'))).click()\n",
    "    search_input = wait.until(EC.presence_of_element_located((By.XPATH,'//input[@placeholder=\"Search\"]')))\n",
    "    search_input.clear()\n",
    "    search_input.send_keys(string)\n",
    "    userId = wait.until(EC.presence_of_all_elements_located((By.XPATH,'//div[@class=\"_abm4\"]')))\n",
    "\n",
    "    base_url = \"https://instagram.com\"\n",
    "\n",
    "    # store user handle with their handle link\n",
    "    count=0\n",
    "    for i in userId:\n",
    "        \n",
    "        if count>=n:\n",
    "            break\n",
    "        html_content=i.get_attribute('outerHTML')\n",
    "        User_Link = BeautifulSoup(html_content,'html.parser').a['href']\n",
    "        Get_User_Handle = User_Link.split('/')[1]\n",
    "        if Get_User_Handle!='explore':\n",
    "            User_Handle[Get_User_Handle]=base_url+User_Link\n",
    "            count+=1\n",
    "    \n",
    "            \n",
    "    return User_Handle\n",
    "\n",
    "# store top 10 user handle with their user links\n",
    "Store_user_IDs = Search('food',10)"
   ]
  },
  {
   "cell_type": "code",
   "execution_count": 92,
   "id": "76fc4cab",
   "metadata": {},
   "outputs": [
    {
     "data": {
      "text/plain": [
       "{'delhi_streets_food': 'https://instagram.com/delhi_streets_food/',\n",
       " 'food__diaries____': 'https://instagram.com/food__diaries____/',\n",
       " 'foodzeee': 'https://instagram.com/foodzeee/',\n",
       " 'ghar.kaa.khana': 'https://instagram.com/ghar.kaa.khana/',\n",
       " 'consciousfoodindia': 'https://instagram.com/consciousfoodindia/',\n",
       " 'foodsandflavorsbyshilpi': 'https://instagram.com/foodsandflavorsbyshilpi/',\n",
       " 'food': 'https://instagram.com/food/',\n",
       " 'foodiesfood_court': 'https://instagram.com/foodiesfood_court/',\n",
       " 'streetfood_walker': 'https://instagram.com/streetfood_walker/',\n",
       " 'food_lover_tannabyshiv': 'https://instagram.com/food_lover_tannabyshiv/'}"
      ]
     },
     "execution_count": 92,
     "metadata": {},
     "output_type": "execute_result"
    }
   ],
   "source": [
    "Store_user_IDs"
   ]
  },
  {
   "cell_type": "code",
   "execution_count": 118,
   "id": "015d948e",
   "metadata": {},
   "outputs": [
    {
     "data": {
      "text/html": [
       "<video src=\"Video/V-2.mp4\" controls  width=\"1000\"  height=\"900\">\n",
       "      Your browser does not support the <code>video</code> element.\n",
       "    </video>"
      ],
      "text/plain": [
       "<IPython.core.display.Video object>"
      ]
     },
     "execution_count": 118,
     "metadata": {},
     "output_type": "execute_result"
    }
   ],
   "source": [
    "# video Representation \n",
    "Video(\"Video/V-2.mp4\",width=1000,height=900)"
   ]
  },
  {
   "cell_type": "code",
   "execution_count": 93,
   "id": "90fb6d08",
   "metadata": {},
   "outputs": [
    {
     "name": "stdout",
     "output_type": "stream",
     "text": [
      "foodzeee ---> 1339711 Followers\n",
      "foodsandflavorsbyshilpi ---> 531417 Followers\n",
      "foodiesfood_court ---> 442590 Followers\n",
      "food ---> 180384 Followers\n",
      "delhi_streets_food ---> 39913 Followers\n"
     ]
    }
   ],
   "source": [
    "# Open the first 10 handles and find the top 5 which have the highest number of followers\n",
    "\n",
    "\"\"\"\n",
    "I have created a function named Count_Followers which takes user Id link as argument and return number of followers of that user\n",
    "Firstly I got all the user's followers count and then I found the top 5 user which have highest followers among 10 user\n",
    "I got the user id and their link from above created dictionary , after that I found the Top 5 user ID with their followers \n",
    "which I print below.\n",
    "\n",
    "As of now it is showing me that foodinsider have highest followers but this can be change depending upon the user and the time \n",
    "when you will run the code.\n",
    "\n",
    "\"\"\"\n",
    "\n",
    "def Count_Followers(user_Handle_link):\n",
    "    driver.get(user_Handle_link)\n",
    "    sleep(2)\n",
    "    data = wait.until(EC.presence_of_element_located((By.PARTIAL_LINK_TEXT,'followers')))\n",
    "    Follower_count = BeautifulSoup(data.get_attribute('outerHTML'),'html.parser').span['title']\n",
    "    Follower_count=int(Follower_count.replace(',',''))\n",
    "    return Follower_count\n",
    "    \n",
    "# get followers count of 10 user and store that in dictionary\n",
    "Followers_of_user = {}\n",
    "for user_Id,Link in Store_user_IDs.items():\n",
    "    follower = Count_Followers(Link)\n",
    "    Followers_of_user[user_Id]=follower\n",
    "    \n",
    "# print the top 5 user having highest followers and also store the user id for futher calculation\n",
    "Top_5_handle=[]\n",
    "Top_5_followed_user={}\n",
    "for i in sorted(Followers_of_user.items(), key=lambda kv: kv[1],reverse=True)[:5]:\n",
    "    print(i[0],'--->',i[1],'Followers')\n",
    "    Top_5_followed_user[i[0]]=i[1]\n",
    "    Top_5_handle.append(i[0])\n",
    "\n",
    "    "
   ]
  },
  {
   "cell_type": "code",
   "execution_count": 117,
   "id": "7732e052",
   "metadata": {},
   "outputs": [
    {
     "data": {
      "text/html": [
       "<video src=\"Video/V-3.mp4\" controls  width=\"1000\"  height=\"900\">\n",
       "      Your browser does not support the <code>video</code> element.\n",
       "    </video>"
      ],
      "text/plain": [
       "<IPython.core.display.Video object>"
      ]
     },
     "execution_count": 117,
     "metadata": {},
     "output_type": "execute_result"
    }
   ],
   "source": [
    "# video Representation \n",
    "Video(\"Video/V-3.mp4\",width=1000,height=900)"
   ]
  },
  {
   "cell_type": "code",
   "execution_count": 94,
   "id": "81d170ac",
   "metadata": {},
   "outputs": [
    {
     "data": {
      "image/png": "[encoded data removed]",
      "text/plain": [
       "<Figure size 720x720 with 1 Axes>"
      ]
     },
     "metadata": {},
     "output_type": "display_data"
    }
   ],
   "source": [
    "# Depict this information using a suitable graph.\n",
    "# Pie Graph just to get the idea which user_handle has more followers.\n",
    "\n",
    "count = list(Top_5_followed_user.values())\n",
    "userId = list(Top_5_followed_user.keys())\n",
    "\n",
    "plt.figure(figsize=(10,10))\n",
    "plt.pie(count,labels=userId,autopct=\"%.2f%%\",counterclock=False,startangle=110)\n",
    "plt.title('Top 5 user which have the highest number of followers ',fontsize=20, color='green',alpha=0.8)\n",
    "plt.show()"
   ]
  },
  {
   "cell_type": "markdown",
   "id": "57a05504",
   "metadata": {},
   "source": [
    "### 2. Now Find the number of posts these handles have done in the previous 3 days."
   ]
  },
  {
   "cell_type": "code",
   "execution_count": 95,
   "id": "b5deb801",
   "metadata": {},
   "outputs": [
    {
     "name": "stdout",
     "output_type": "stream",
     "text": [
      "foodzeee -----> 1 Posts\n",
      "foodsandflavorsbyshilpi -----> 0 Posts\n",
      "foodiesfood_court -----> 3 Posts\n",
      "food -----> 1 Posts\n",
      "delhi_streets_food -----> 0 Posts\n"
     ]
    }
   ],
   "source": [
    "\"\"\"\n",
    "To solve this problem I have made a function named Number_of_Post which takes two arguments: profile link and number of days from \n",
    "which I want to know the total number of post that user posted.\n",
    "In this function first click on the First post then get the time and convert it into requied fomate then calculate the difference\n",
    "between current datetime and post datetime if it is less then given number of days it will continue the count of post \n",
    "and go to the next post otherwise function will stop and return number of post that the user posted.\n",
    "\n",
    "here I used the user id and its link which I found in previous answer\n",
    "\n",
    "As of now it is showing me that healthyfood.addiction have highest posted in 3 days but this can be change depending upon\n",
    "the user and the time when you will run the code.\n",
    "\n",
    "\"\"\"\n",
    "\n",
    "def Number_of_Post(user_url,No_of_Days):\n",
    "        \n",
    "    driver.get(user_url)\n",
    "    sleep(2)\n",
    "    First_Post = wait.until(EC.presence_of_element_located((By.XPATH,'//div[@class=\"_ac7v _aang\"]/div[1]')))\n",
    "    First_Post.click()\n",
    "    no_of_post=0\n",
    "    while True:\n",
    "\n",
    "        time_of_post = wait.until(EC.presence_of_element_located((By.XPATH,'//time[@class=\"_aaqe\"]'))).get_attribute('datetime')\n",
    "        date_of_post = datetime.strptime(time_of_post[0:19], \"%Y-%m-%dT%H:%M:%S\")\n",
    "        if (datetime.now() - date_of_post).days > No_of_Days :\n",
    "            break\n",
    "        else :\n",
    "            no_of_post += 1\n",
    "\n",
    "        Next_post = wait.until(EC.presence_of_element_located((By.XPATH,'//div[@class=\" _aaqg _aaqh\"]/button')))\n",
    "        Next_post.click()\n",
    "        sleep(2)\n",
    "\n",
    "    driver.back()\n",
    "    return no_of_post\n",
    "\n",
    "\n",
    "# getting the number of posts these handles have done in the previous 3 days and store them in dictionary\n",
    "no_of_post_per_user = {}\n",
    "for Id in Top_5_handle:\n",
    "    user_url = Store_user_IDs[Id]\n",
    "    Post_count = Number_of_Post(user_url,3)\n",
    "    no_of_post_per_user[Id] = Post_count\n",
    "    \n",
    "# print the user id and number of post have done by user in 3 days\n",
    "for ID,Count in no_of_post_per_user.items():\n",
    "    print(ID,'----->',Count,'Posts')\n"
   ]
  },
  {
   "cell_type": "code",
   "execution_count": 120,
   "id": "570ef1f6",
   "metadata": {},
   "outputs": [
    {
     "data": {
      "text/html": [
       "<video src=\"Video/V-4.mp4\" controls  width=\"1000\"  height=\"900\">\n",
       "      Your browser does not support the <code>video</code> element.\n",
       "    </video>"
      ],
      "text/plain": [
       "<IPython.core.display.Video object>"
      ]
     },
     "execution_count": 120,
     "metadata": {},
     "output_type": "execute_result"
    }
   ],
   "source": [
    "# video Representation \n",
    "Video(\"Video/V-4.mp4\",width=1000,height=900)"
   ]
  },
  {
   "cell_type": "markdown",
   "id": "af9f8a79",
   "metadata": {},
   "source": [
    "### 3. Depict this information using a suitable graph."
   ]
  },
  {
   "cell_type": "code",
   "execution_count": 96,
   "id": "7f7c83e2",
   "metadata": {},
   "outputs": [
    {
     "data": {
      "image/png": "[encoded data removed]",
      "text/plain": [
       "<Figure size 432x288 with 1 Axes>"
      ]
     },
     "metadata": {
      "needs_background": "light"
     },
     "output_type": "display_data"
    }
   ],
   "source": [
    "\n",
    "x = no_of_post_per_user.keys()\n",
    "y = no_of_post_per_user.values()\n",
    "\n",
    "plt.bar(x,y,color='g',alpha=0.7)\n",
    "plt.ylabel(\"No. of posts in the previous 3 days\",size=12)\n",
    "plt.xlabel(\"Instagram handles\",size=12)\n",
    "plt.xticks(rotation = 45)\n",
    "plt.title('Most Followed user vs Number of recent posts ',fontsize=20, color='green',alpha=0.8)\n",
    "plt.grid()\n",
    "plt.show()"
   ]
  },
  {
   "cell_type": "markdown",
   "id": "bf668015",
   "metadata": {},
   "source": [
    "# Problem 2 : \n",
    "    Your friend also needs a list of hashtags that he should use in his posts."
   ]
  },
  {
   "cell_type": "markdown",
   "id": "b636597a",
   "metadata": {},
   "source": [
    "### 1. Open the 5 handles you obtained in the last question, and scrape the content of the first 10 posts of each handle."
   ]
  },
  {
   "cell_type": "code",
   "execution_count": 97,
   "id": "ea0b5ec9",
   "metadata": {},
   "outputs": [
    {
     "name": "stdout",
     "output_type": "stream",
     "text": [
      "foodzeee ---> ['#gulabjamun', '#777foods', '#dussehra', '#Navratri', '#corn', '#tandooricorn', '#butta', '#recipe', '#gotsu', '#tomato', '#pongal', '#thakkaligotsu', '#recipe', '#pulusu', '#arbi', '#recipe', '#onionbhaji', '#pakora', '#onion', '#kandabhaji', '#recipe', '#foodzeee', '#henna', '#mehndi', '#marudhani', '#foodzeee', '#vazhaikai', '#plantain', '#recipe', '#foodzeee', '#kheer', '#payasam', '#recipe', '#foodzeee', '#dumaloo', '#aloo', '#kashmiri', '#recipe', '#foodzeee', '#brinjalfry', '#recipe', '#kathirikkaivaruval', '#foodzeee']\n",
      "\n",
      "foodsandflavorsbyshilpi ---> ['#FoodsAndFlavors', '#RecipesByShilpi', '#FoodsAndFlavorsByShilpi', '#recipe', '#Recipes', '#IndianRecipes', '#Food', '#Cooking', '#IndianRecipes', '#FoodsAndFlavors', '#RecipesByShilpi', '#FoodsAndFlavorsByShilpi', '#FoodsAndFlavors', '#RecipesByShilpi', '#FoodsAndFlavorsByShilpi', '#recipe', '#Recipes', '#IndianRecipes', '#Food', '#Cooking', '#IndianRecipes', '#FoodsAndFlavors', '#RecipesByShilpi', '#FoodsAndFlavorsByShilpi', '#recipe', '#Recipes', '#IndianRecipes', '#Food', '#Cooking', '#IndianRecipes', '#FoodsAndFlavors', '#RecipesByShilpi', '#FoodsAndFlavorsByShilpi', '#recipe', '#Recipes', '#IndianRecipes', '#Food', '#Cooking', '#IndianRecipes', '#FoodsAndFlavors', '#RecipesByShilpi', '#FoodsAndFlavorsByShilpi', '#recipe', '#Recipes', '#IndianRecipes', '#Food', '#Cooking', '#IndianRecipes', '#FoodsAndFlavors', '#RecipesByShilpi', '#FoodsAndFlavorsByShilpi', '#recipe', '#Recipes', '#IndianRecipes', '#Food', '#Cooking', '#IndianRecipes', '#FoodsAndFlavors', '#RecipesByShilpi', '#FoodsAndFlavorsByShilpi', '#recipe', '#Recipes', '#IndianRecipes', '#Food', '#Cooking', '#IndianRecipes', '#FoodsAndFlavors', '#RecipesByShilpi', '#FoodsAndFlavorsByShilpi', '#recipe', '#Recipes', '#IndianRecipes', '#Food', '#Cooking', '#IndianRecipes', '#FoodsAndFlavors', '#RecipesByShilpi', '#FoodsAndFlavorsByShilpi', '#recipe', '#Recipes', '#IndianRecipes', '#Food', '#Cooking', '#IndianRecipes', '#FoodsAndFlavors', '#RecipesByShilpi', '#FoodsAndFlavorsByShilpi', '#recipe', '#Recipes', '#IndianRecipes', '#Food', '#Cooking', '#IndianRecipes']\n",
      "\n",
      "foodiesfood_court ---> ['#foodiesfood_court', '#potatorecipes', '#paneerrecipes', '#easyrecipes', '#explore', '#aloo', '#vegrecipes', '#reels', '#reelkarofeelkaro', '#reelsinstagram', '#alootikki', '#trending', '#greenchutney', '#sabudanavada', '#sabudanatikki', '#tikkirecipe', '#sabudana', '#sabudanakhichdi', '#navratrispecial', '#indianfood', '#navratri2022', '#vratrecipes', '#viralfood', '#foodiesfood_court', '#paneerdopyaza', '#paneer', '#paneerrecipes', '#kadaipaneer', '#matarpaneer', '#navratri', '#durgapuja', '#explorepage', '#explore', '#trending', '#recipeoftheday', '#paneertikka', '#weekend', '#dhabafood', '#indianrecipes', '#easyrecipes', '#indianfood', '#recipes', '#desikhana', '#masalapaneer', '#vegrecipes', '#vegmanchurian', '#exploremore', '#streetfood', '#soyamanchurian', '#chillipaneer', '#vegpulao', '#recipeoftheday', '#videooftheday', '#foodiesfood_court', '#chutney', '#chutneyrecipe', '#tomato', '#tomatochutney', '#redchutney', '#weekend', '#southindianfood', '#dosa', '#idli', '#idlichutney', '#reels', '#food', '#reelsinstagram', '#reelitfeelit', '#reelkarofeelkaro', '#instagood', '#reelsindia', '#reelsviral', '#recipes', '#easyrecipes', '#eeeeeats', '#garlicchutney', '#spicy', '#spicyfood', '#dip', '#dosalover', '#foodporn', '#foodstagram', '#recipeoftheday', '#foodiesfood_court', '#viralvideo', '#explorepage', '#explore', '#navratri', '#indianfood', '#recipes', '#recipevideo', '#homecooking', '#indiancuisine', '#aloopuri', '#aloorecipes', '#easyrecipes', '#paneerrecipes', '#foodvideos', '#vegrecipes', '#aloosabzi', '#food', '#instagram', '#instagood', '#reels', '#reelsinstagram', '#reelitfeelit', '#navratrispecial', '#durgapuja', '#reelkarofeelkaro', '#reelsindia', '#foodreels', '#foodiesfood_court', '#sabudanakheer', '#sabudana', '#navratri', '#indianfestival', '#durgapuja', '#navratrispecial', '#indianrecipes', '#eeeeeats', '#easyrecipes', '#vegrecipes', '#dussehra', '#kheer', '#ricekheer', '#indiansweets', '#trending', '#explore', '#explorepage', '#vratrecipes', '#recipes', '#viralfood', '#kheerrecipe', '#reelsinstagram', '#trendingreels', '#recipes', '#easyrecipes', '#banana', '#bananashake', '#shake', '#proteinshake', '#reelkarofeelkaro', '#gym', '#myfitness', '#smoothie', '#highprotien', '#postworkoutmeal', '#dietfood', '#healthydrink', '#weightloss', '#explore', '#explorepage', '#foodreels', '#smoothiebowls', '#smoothierecipes', '#oats', '#granolabowl', '#proteinoats', '#healthyrecipies', '#oatsrecipe', '#chocolate', '#healthyrecipes', '#foodiesfood_court', '#paneer', '#kadaipaneer', '#paneerrecipes', '#paneerstarter', '#indianfestival', '#navratri', '#explorepage', '#explore', '#trending', '#recipeoftheday', '#paneermasala', '#paneertikka', '#weekend', '#eeeeeats', '#instagram', '#indianrecipes', '#easyrecipes', '#indianfood', '#foodvideos', '#reelsviral', '#reels', '#reelsinstagram', '#reelitfeelit', '#reelsindia', '#durgapuja', '#foodiesfood_court', '#vegpulao', '#vegpulav', '#paneerpulao', '#vegbiriyani', '#biryani', '#biryanirecipe', '#biryanilovers', '#vegrecipes', '#eeeeeats', '#desikhana', '#explore', '#explorepage', '#indianfood', '#indianrecipes', '#easyrecipes', '#foodvideos', '#recipes', '#recipeoftheday', '#videooftheday', '#recipevideo', '#paneerrecipes', '#pulao', '#chickenbiryani', '#chickenrecipes', '#foodiesfood_court', '#proteinfood', '#healthyfood', '#trending', '#reels', '#halwa', '#aatekahalwa', '#halwarecipe', '#indianfestival', '#kadaprasad', '#gurudwara', '#viralvideo', '#easyrecipes', '#reelitfeelit', '#reelsinstagram', '#reelkarofeelkaro', '#reelsindia', '#explore', '#explorepage', '#indianfood', '#foodiesfood_court', '#kurkure', '#lays', '#chips', '#snacks', '#snack', '#easyrecipes', '#weekend', '#chakna', '#easyrecipes', '#quickrecipes', '#delhi', '#recipereels', '#reels', '#reelitfeelit', '#delhifood', '#reelsinstagram', '#reelkarofeelkaro', '#food', '#instagram', '#instagood', '#chaatrecipe', '#layschaat', '#laysrecipe', '#snacksrecipe', '#quickchaat', '#kurkurechaat']\n",
      "\n",
      "food ---> ['#butterboards', '#butter', '#trending', '#satisfyingvideos', '#satisfying', '#easyrecipes', '#breakfast', '#tiktok', '#foodnews', '#icecream', '#keto', '#ketodiet', '#videogames', '#minecraft', '#foodnews', '#pepsi', '#smores', '#PepsiSmores', '#fall', '#fallflavors', '#apples', '#applecider', '#appleciderdonuts', '#tacotuesday', '#foodscene', '#tacos', '#birriatacos', '#mexicanfood', '#miami', '#foodscene', '#sandwiches', '#foodnetwork', '#bobbyflay', '#beatbobbyflay', '#koreanbbq', '#koreansandwich', '#newyorkcity', '#brooklyn', '#sanfrancisco', '#pizza', '#pizzalover', '#cheese', '#sauce', '#italian', '#foodnews', '#foodcollabs', '#shakeshack', '#hotones', '#firstwefeast', '#spicy', '#chickenwings', '#hotsauce', '#habenero', '#foodnews', '#chipolte', '#metaverse', '#web3', '#burrito', '#mexicanfood', '#foodnews', '#mrbeast', '#mrbeastburger', '#burgers']\n",
      "\n",
      "delhi_streets_food ---> ['#food', '#streetfood', '#foodlover', '#foodlove', '#delhistreetsfood', '#guava', '#summer', '#weekend', '#icecream', '#coldstone', '#coldstonecreamery', '#gulabjamun', '#dessert', '#bewafaikargaya', '#bpraak', '#lekh', '#whitehillmusic', '#bewafaikargaya', '#bpraak', '#lekh', '#whitehillmusic', '#bhutta', '#challi', '#bewafaikargaya', '#bpraak', '#lekh', '#whitehillmusic', '#uddgaya', '#lekh', '#whitehillmusic', '#bpraak', '#kachori', '#breakfast', '#loveit']\n",
      "\n"
     ]
    }
   ],
   "source": [
    "\"\"\"\n",
    "To answer this question I have made a function named content_of_post it takes two arguments:\n",
    "1. profile link\n",
    "2. no. of post\n",
    "This function is suitable for extracting the content of n number of posts and this function will return a list of \n",
    "text extracted from each post.\n",
    "\n",
    "In this function firstly I click on the first post extract all the content and move to the next post. \n",
    "In this, my friend wants the list of Hashtags so I extract only hashtags rather than all the words, \n",
    "there is no means to extract all the words.\n",
    "\n",
    "And I collect all the text for 10 posts corresponding to their user and store them in a dictionary key as user id and values as a list of words.\n",
    "\n",
    "\"\"\"\n",
    "\n",
    "\n",
    "\n",
    "\n",
    "def content_of_post(user_url,No_of_post):\n",
    "        \n",
    "    Text_list = []\n",
    "    driver.get(user_url)\n",
    "    sleep(2)\n",
    "    First_Post = wait.until(EC.presence_of_element_located((By.XPATH,'//div[@class=\"_ac7v _aang\"]/div[1]')))\n",
    "    First_Post.click()\n",
    "    no_of_post=0\n",
    "    while True:\n",
    "\n",
    "        HTML = wait.until(EC.presence_of_element_located((By.CLASS_NAME,'_a9zs')))\n",
    "        Texts = BeautifulSoup(HTML.get_attribute('innerHTML'),'html.parser').find_all('a')\n",
    "        \n",
    "        # get the text\n",
    "        for text in Texts:\n",
    "            text=text.text\n",
    "            if text[0]!='@':\n",
    "                Text_list.append(text)\n",
    "        no_of_post += 1\n",
    "        if No_of_post==no_of_post:\n",
    "            break\n",
    "\n",
    "        Next_post = wait.until(EC.presence_of_element_located((By.XPATH,'//div[@class=\" _aaqg _aaqh\"]/button')))\n",
    "        Next_post.click()\n",
    "        sleep(2)\n",
    "\n",
    "    driver.back()\n",
    "    return Text_list\n",
    "\n",
    "# extract all the list of text of top 5 user which I get in previous qes and store them in list for further requirments\n",
    "words_of_5_user = []\n",
    "for Id in Top_5_handle:\n",
    "    user_url = Store_user_IDs[Id]\n",
    "    text_list = content_of_post(user_url,10)\n",
    "    words_of_5_user.extend(text_list)\n",
    "    print(Id,'--->',text_list)\n",
    "    print()\n",
    "     "
   ]
  },
  {
   "cell_type": "code",
   "execution_count": 122,
   "id": "f54ea652",
   "metadata": {},
   "outputs": [
    {
     "data": {
      "text/html": [
       "<video src=\"Video/V-5.mp4\" controls  width=\"1000\"  height=\"900\">\n",
       "      Your browser does not support the <code>video</code> element.\n",
       "    </video>"
      ],
      "text/plain": [
       "<IPython.core.display.Video object>"
      ]
     },
     "execution_count": 122,
     "metadata": {},
     "output_type": "execute_result"
    }
   ],
   "source": [
    "# video Representation \n",
    "Video(\"Video/V-5.mp4\",width=1000,height=900)"
   ]
  },
  {
   "cell_type": "markdown",
   "id": "8ff3384e",
   "metadata": {},
   "source": [
    "### 2.Prepare a list of all words used in all the scraped posts and calculate the frequency of each word."
   ]
  },
  {
   "cell_type": "code",
   "execution_count": 98,
   "id": "0c6af7ec",
   "metadata": {},
   "outputs": [
    {
     "data": {
      "text/plain": [
       "{'#gulabjamun': 2,\n",
       " '#777foods': 1,\n",
       " '#dussehra': 2,\n",
       " '#Navratri': 1,\n",
       " '#corn': 1,\n",
       " '#tandooricorn': 1,\n",
       " '#butta': 1,\n",
       " '#recipe': 18,\n",
       " '#gotsu': 1,\n",
       " '#tomato': 2,\n",
       " '#pongal': 1,\n",
       " '#thakkaligotsu': 1,\n",
       " '#pulusu': 1,\n",
       " '#arbi': 1,\n",
       " '#onionbhaji': 1,\n",
       " '#pakora': 1,\n",
       " '#onion': 1,\n",
       " '#kandabhaji': 1,\n",
       " '#foodzeee': 6,\n",
       " '#henna': 1,\n",
       " '#mehndi': 1,\n",
       " '#marudhani': 1,\n",
       " '#vazhaikai': 1,\n",
       " '#plantain': 1,\n",
       " '#kheer': 2,\n",
       " '#payasam': 1,\n",
       " '#dumaloo': 1,\n",
       " '#aloo': 2,\n",
       " '#kashmiri': 1,\n",
       " '#brinjalfry': 1,\n",
       " '#kathirikkaivaruval': 1,\n",
       " '#FoodsAndFlavors': 11,\n",
       " '#RecipesByShilpi': 11,\n",
       " '#FoodsAndFlavorsByShilpi': 11,\n",
       " '#Recipes': 10,\n",
       " '#IndianRecipes': 20,\n",
       " '#Food': 10,\n",
       " '#Cooking': 10,\n",
       " '#foodiesfood_court': 9,\n",
       " '#potatorecipes': 1,\n",
       " '#paneerrecipes': 5,\n",
       " '#easyrecipes': 12,\n",
       " '#explore': 8,\n",
       " '#vegrecipes': 5,\n",
       " '#reels': 6,\n",
       " '#reelkarofeelkaro': 6,\n",
       " '#reelsinstagram': 7,\n",
       " '#alootikki': 1,\n",
       " '#trending': 6,\n",
       " '#greenchutney': 1,\n",
       " '#sabudanavada': 1,\n",
       " '#sabudanatikki': 1,\n",
       " '#tikkirecipe': 1,\n",
       " '#sabudana': 2,\n",
       " '#sabudanakhichdi': 1,\n",
       " '#navratrispecial': 3,\n",
       " '#indianfood': 6,\n",
       " '#navratri2022': 1,\n",
       " '#vratrecipes': 2,\n",
       " '#viralfood': 2,\n",
       " '#paneerdopyaza': 1,\n",
       " '#paneer': 2,\n",
       " '#kadaipaneer': 2,\n",
       " '#matarpaneer': 1,\n",
       " '#navratri': 4,\n",
       " '#durgapuja': 4,\n",
       " '#explorepage': 7,\n",
       " '#recipeoftheday': 5,\n",
       " '#paneertikka': 2,\n",
       " '#weekend': 5,\n",
       " '#dhabafood': 1,\n",
       " '#indianrecipes': 4,\n",
       " '#recipes': 6,\n",
       " '#desikhana': 2,\n",
       " '#masalapaneer': 1,\n",
       " '#vegmanchurian': 1,\n",
       " '#exploremore': 1,\n",
       " '#streetfood': 2,\n",
       " '#soyamanchurian': 1,\n",
       " '#chillipaneer': 1,\n",
       " '#vegpulao': 2,\n",
       " '#videooftheday': 2,\n",
       " '#chutney': 1,\n",
       " '#chutneyrecipe': 1,\n",
       " '#tomatochutney': 1,\n",
       " '#redchutney': 1,\n",
       " '#southindianfood': 1,\n",
       " '#dosa': 1,\n",
       " '#idli': 1,\n",
       " '#idlichutney': 1,\n",
       " '#food': 4,\n",
       " '#reelitfeelit': 5,\n",
       " '#instagood': 3,\n",
       " '#reelsindia': 4,\n",
       " '#reelsviral': 2,\n",
       " '#eeeeeats': 4,\n",
       " '#garlicchutney': 1,\n",
       " '#spicy': 2,\n",
       " '#spicyfood': 1,\n",
       " '#dip': 1,\n",
       " '#dosalover': 1,\n",
       " '#foodporn': 1,\n",
       " '#foodstagram': 1,\n",
       " '#viralvideo': 2,\n",
       " '#recipevideo': 2,\n",
       " '#homecooking': 1,\n",
       " '#indiancuisine': 1,\n",
       " '#aloopuri': 1,\n",
       " '#aloorecipes': 1,\n",
       " '#foodvideos': 3,\n",
       " '#aloosabzi': 1,\n",
       " '#instagram': 3,\n",
       " '#foodreels': 2,\n",
       " '#sabudanakheer': 1,\n",
       " '#indianfestival': 3,\n",
       " '#ricekheer': 1,\n",
       " '#indiansweets': 1,\n",
       " '#kheerrecipe': 1,\n",
       " '#trendingreels': 1,\n",
       " '#banana': 1,\n",
       " '#bananashake': 1,\n",
       " '#shake': 1,\n",
       " '#proteinshake': 1,\n",
       " '#gym': 1,\n",
       " '#myfitness': 1,\n",
       " '#smoothie': 1,\n",
       " '#highprotien': 1,\n",
       " '#postworkoutmeal': 1,\n",
       " '#dietfood': 1,\n",
       " '#healthydrink': 1,\n",
       " '#weightloss': 1,\n",
       " '#smoothiebowls': 1,\n",
       " '#smoothierecipes': 1,\n",
       " '#oats': 1,\n",
       " '#granolabowl': 1,\n",
       " '#proteinoats': 1,\n",
       " '#healthyrecipies': 1,\n",
       " '#oatsrecipe': 1,\n",
       " '#chocolate': 1,\n",
       " '#healthyrecipes': 1,\n",
       " '#paneerstarter': 1,\n",
       " '#paneermasala': 1,\n",
       " '#vegpulav': 1,\n",
       " '#paneerpulao': 1,\n",
       " '#vegbiriyani': 1,\n",
       " '#biryani': 1,\n",
       " '#biryanirecipe': 1,\n",
       " '#biryanilovers': 1,\n",
       " '#pulao': 1,\n",
       " '#chickenbiryani': 1,\n",
       " '#chickenrecipes': 1,\n",
       " '#proteinfood': 1,\n",
       " '#healthyfood': 1,\n",
       " '#halwa': 1,\n",
       " '#aatekahalwa': 1,\n",
       " '#halwarecipe': 1,\n",
       " '#kadaprasad': 1,\n",
       " '#gurudwara': 1,\n",
       " '#kurkure': 1,\n",
       " '#lays': 1,\n",
       " '#chips': 1,\n",
       " '#snacks': 1,\n",
       " '#snack': 1,\n",
       " '#chakna': 1,\n",
       " '#quickrecipes': 1,\n",
       " '#delhi': 1,\n",
       " '#recipereels': 1,\n",
       " '#delhifood': 1,\n",
       " '#chaatrecipe': 1,\n",
       " '#layschaat': 1,\n",
       " '#laysrecipe': 1,\n",
       " '#snacksrecipe': 1,\n",
       " '#quickchaat': 1,\n",
       " '#kurkurechaat': 1,\n",
       " '#butterboards': 1,\n",
       " '#butter': 1,\n",
       " '#satisfyingvideos': 1,\n",
       " '#satisfying': 1,\n",
       " '#breakfast': 2,\n",
       " '#tiktok': 1,\n",
       " '#foodnews': 5,\n",
       " '#icecream': 2,\n",
       " '#keto': 1,\n",
       " '#ketodiet': 1,\n",
       " '#videogames': 1,\n",
       " '#minecraft': 1,\n",
       " '#pepsi': 1,\n",
       " '#smores': 1,\n",
       " '#PepsiSmores': 1,\n",
       " '#fall': 1,\n",
       " '#fallflavors': 1,\n",
       " '#apples': 1,\n",
       " '#applecider': 1,\n",
       " '#appleciderdonuts': 1,\n",
       " '#tacotuesday': 1,\n",
       " '#foodscene': 2,\n",
       " '#tacos': 1,\n",
       " '#birriatacos': 1,\n",
       " '#mexicanfood': 2,\n",
       " '#miami': 1,\n",
       " '#sandwiches': 1,\n",
       " '#foodnetwork': 1,\n",
       " '#bobbyflay': 1,\n",
       " '#beatbobbyflay': 1,\n",
       " '#koreanbbq': 1,\n",
       " '#koreansandwich': 1,\n",
       " '#newyorkcity': 1,\n",
       " '#brooklyn': 1,\n",
       " '#sanfrancisco': 1,\n",
       " '#pizza': 1,\n",
       " '#pizzalover': 1,\n",
       " '#cheese': 1,\n",
       " '#sauce': 1,\n",
       " '#italian': 1,\n",
       " '#foodcollabs': 1,\n",
       " '#shakeshack': 1,\n",
       " '#hotones': 1,\n",
       " '#firstwefeast': 1,\n",
       " '#chickenwings': 1,\n",
       " '#hotsauce': 1,\n",
       " '#habenero': 1,\n",
       " '#chipolte': 1,\n",
       " '#metaverse': 1,\n",
       " '#web3': 1,\n",
       " '#burrito': 1,\n",
       " '#mrbeast': 1,\n",
       " '#mrbeastburger': 1,\n",
       " '#burgers': 1,\n",
       " '#foodlover': 1,\n",
       " '#foodlove': 1,\n",
       " '#delhistreetsfood': 1,\n",
       " '#guava': 1,\n",
       " '#summer': 1,\n",
       " '#coldstone': 1,\n",
       " '#coldstonecreamery': 1,\n",
       " '#dessert': 1,\n",
       " '#bewafaikargaya': 3,\n",
       " '#bpraak': 4,\n",
       " '#lekh': 4,\n",
       " '#whitehillmusic': 4,\n",
       " '#bhutta': 1,\n",
       " '#challi': 1,\n",
       " '#uddgaya': 1,\n",
       " '#kachori': 1,\n",
       " '#loveit': 1}"
      ]
     },
     "execution_count": 98,
     "metadata": {},
     "output_type": "execute_result"
    }
   ],
   "source": [
    "\"\"\"\n",
    "Here I made a function to get the frequency of each word, In this function, it takes only one argument \n",
    "1. List of words, returns dictionary having word and corresponding frequencies\n",
    "I calculate the frequency of each word and store them for further requirements I got the list of words from\n",
    "previous question.\n",
    "\n",
    "\"\"\"\n",
    "\n",
    "def get_word_frequency(List_of_words):\n",
    "    dct = {}\n",
    "    words_list = []\n",
    "    for word in List_of_words:\n",
    "        dct[word] = dct.get(word,0) + 1\n",
    "    return dct\n",
    "\n",
    "# calling the function\n",
    "word_freq_dict = get_word_frequency(words_of_5_user)\n",
    "word_freq_dict"
   ]
  },
  {
   "cell_type": "markdown",
   "id": "31988799",
   "metadata": {},
   "source": [
    "### 3.Create a csv file with two columns : the word and its frequency"
   ]
  },
  {
   "cell_type": "code",
   "execution_count": 99,
   "id": "810e6983",
   "metadata": {
    "scrolled": true
   },
   "outputs": [
    {
     "data": {
      "text/html": [
       "<div>\n",
       "<style scoped>\n",
       "    .dataframe tbody tr th:only-of-type {\n",
       "        vertical-align: middle;\n",
       "    }\n",
       "\n",
       "    .dataframe tbody tr th {\n",
       "        vertical-align: top;\n",
       "    }\n",
       "\n",
       "    .dataframe thead th {\n",
       "        text-align: right;\n",
       "    }\n",
       "</style>\n",
       "<table border=\"1\" class=\"dataframe\">\n",
       "  <thead>\n",
       "    <tr style=\"text-align: right;\">\n",
       "      <th></th>\n",
       "      <th>Word</th>\n",
       "      <th>Frequency</th>\n",
       "    </tr>\n",
       "  </thead>\n",
       "  <tbody>\n",
       "    <tr>\n",
       "      <th>0</th>\n",
       "      <td>#gulabjamun</td>\n",
       "      <td>2</td>\n",
       "    </tr>\n",
       "    <tr>\n",
       "      <th>1</th>\n",
       "      <td>#777foods</td>\n",
       "      <td>1</td>\n",
       "    </tr>\n",
       "    <tr>\n",
       "      <th>2</th>\n",
       "      <td>#dussehra</td>\n",
       "      <td>2</td>\n",
       "    </tr>\n",
       "    <tr>\n",
       "      <th>3</th>\n",
       "      <td>#Navratri</td>\n",
       "      <td>1</td>\n",
       "    </tr>\n",
       "    <tr>\n",
       "      <th>4</th>\n",
       "      <td>#corn</td>\n",
       "      <td>1</td>\n",
       "    </tr>\n",
       "    <tr>\n",
       "      <th>5</th>\n",
       "      <td>#tandooricorn</td>\n",
       "      <td>1</td>\n",
       "    </tr>\n",
       "    <tr>\n",
       "      <th>6</th>\n",
       "      <td>#butta</td>\n",
       "      <td>1</td>\n",
       "    </tr>\n",
       "    <tr>\n",
       "      <th>7</th>\n",
       "      <td>#recipe</td>\n",
       "      <td>18</td>\n",
       "    </tr>\n",
       "    <tr>\n",
       "      <th>8</th>\n",
       "      <td>#gotsu</td>\n",
       "      <td>1</td>\n",
       "    </tr>\n",
       "    <tr>\n",
       "      <th>9</th>\n",
       "      <td>#tomato</td>\n",
       "      <td>2</td>\n",
       "    </tr>\n",
       "  </tbody>\n",
       "</table>\n",
       "</div>"
      ],
      "text/plain": [
       "            Word  Frequency\n",
       "0    #gulabjamun          2\n",
       "1      #777foods          1\n",
       "2      #dussehra          2\n",
       "3      #Navratri          1\n",
       "4          #corn          1\n",
       "5  #tandooricorn          1\n",
       "6         #butta          1\n",
       "7        #recipe         18\n",
       "8         #gotsu          1\n",
       "9        #tomato          2"
      ]
     },
     "execution_count": 99,
     "metadata": {},
     "output_type": "execute_result"
    }
   ],
   "source": [
    "words = [ key for key,value in word_freq_dict.items()]\n",
    "word_frequency = [ value for key,value in word_freq_dict.items()]\n",
    "\n",
    "# Create a csv file with two columns : the word and its frequency\n",
    "columns = {\"Word\":words,\"Frequency\":word_frequency}\n",
    "\n",
    "# Create the pandas dataframe \n",
    "df = pd.DataFrame(columns)\n",
    "\n",
    "#using .to_csv pandas function to convert dataframe to csv without Index values\n",
    "df.to_csv('words_frequency.csv',index=False)\n",
    "\n",
    "# Printing the Top 10 Row of the table\n",
    "df.head(10)"
   ]
  },
  {
   "cell_type": "code",
   "execution_count": null,
   "id": "10540552",
   "metadata": {},
   "outputs": [],
   "source": []
  },
  {
   "cell_type": "markdown",
   "id": "8103d71c",
   "metadata": {},
   "source": [
    "### 4. Now, find the hashtags that were most popular among these bloggers"
   ]
  },
  {
   "cell_type": "code",
   "execution_count": 100,
   "id": "26031e2d",
   "metadata": {},
   "outputs": [
    {
     "name": "stdout",
     "output_type": "stream",
     "text": [
      "#IndianRecipes --> 20 Hashtags\n",
      "#recipe --> 18 Hashtags\n",
      "#easyrecipes --> 12 Hashtags\n",
      "#RecipesByShilpi --> 11 Hashtags\n",
      "#FoodsAndFlavorsByShilpi --> 11 Hashtags\n",
      "#FoodsAndFlavors --> 11 Hashtags\n",
      "#Recipes --> 10 Hashtags\n",
      "#Food --> 10 Hashtags\n",
      "#Cooking --> 10 Hashtags\n",
      "#foodiesfood_court --> 9 Hashtags\n",
      "#explore --> 8 Hashtags\n",
      "#reelsinstagram --> 7 Hashtags\n",
      "#explorepage --> 7 Hashtags\n",
      "#trending --> 6 Hashtags\n",
      "#reels --> 6 Hashtags\n",
      "#reelkarofeelkaro --> 6 Hashtags\n",
      "#recipes --> 6 Hashtags\n",
      "#indianfood --> 6 Hashtags\n",
      "#foodzeee --> 6 Hashtags\n",
      "#weekend --> 5 Hashtags\n",
      "#vegrecipes --> 5 Hashtags\n",
      "#reelitfeelit --> 5 Hashtags\n",
      "#recipeoftheday --> 5 Hashtags\n",
      "#paneerrecipes --> 5 Hashtags\n",
      "#foodnews --> 5 Hashtags\n",
      "#whitehillmusic --> 4 Hashtags\n",
      "#reelsindia --> 4 Hashtags\n",
      "#navratri --> 4 Hashtags\n",
      "#lekh --> 4 Hashtags\n",
      "#indianrecipes --> 4 Hashtags\n",
      "#food --> 4 Hashtags\n",
      "#eeeeeats --> 4 Hashtags\n",
      "#durgapuja --> 4 Hashtags\n",
      "#bpraak --> 4 Hashtags\n",
      "#navratrispecial --> 3 Hashtags\n",
      "#instagram --> 3 Hashtags\n",
      "#instagood --> 3 Hashtags\n",
      "#indianfestival --> 3 Hashtags\n",
      "#foodvideos --> 3 Hashtags\n",
      "#bewafaikargaya --> 3 Hashtags\n",
      "#vratrecipes --> 2 Hashtags\n",
      "#viralvideo --> 2 Hashtags\n",
      "#viralfood --> 2 Hashtags\n",
      "#videooftheday --> 2 Hashtags\n",
      "#vegpulao --> 2 Hashtags\n",
      "#tomato --> 2 Hashtags\n",
      "#streetfood --> 2 Hashtags\n",
      "#spicy --> 2 Hashtags\n",
      "#sabudana --> 2 Hashtags\n",
      "#reelsviral --> 2 Hashtags\n",
      "#recipevideo --> 2 Hashtags\n",
      "#paneertikka --> 2 Hashtags\n",
      "#paneer --> 2 Hashtags\n",
      "#mexicanfood --> 2 Hashtags\n",
      "#kheer --> 2 Hashtags\n",
      "#kadaipaneer --> 2 Hashtags\n",
      "#icecream --> 2 Hashtags\n",
      "#gulabjamun --> 2 Hashtags\n",
      "#foodscene --> 2 Hashtags\n",
      "#foodreels --> 2 Hashtags\n",
      "#dussehra --> 2 Hashtags\n",
      "#desikhana --> 2 Hashtags\n",
      "#breakfast --> 2 Hashtags\n",
      "#aloo --> 2 Hashtags\n",
      "#weightloss --> 1 Hashtags\n",
      "#web3 --> 1 Hashtags\n",
      "#videogames --> 1 Hashtags\n",
      "#vegpulav --> 1 Hashtags\n",
      "#vegmanchurian --> 1 Hashtags\n",
      "#vegbiriyani --> 1 Hashtags\n",
      "#vazhaikai --> 1 Hashtags\n",
      "#uddgaya --> 1 Hashtags\n",
      "#trendingreels --> 1 Hashtags\n",
      "#tomatochutney --> 1 Hashtags\n",
      "#tiktok --> 1 Hashtags\n",
      "#tikkirecipe --> 1 Hashtags\n",
      "#thakkaligotsu --> 1 Hashtags\n",
      "#tandooricorn --> 1 Hashtags\n",
      "#tacotuesday --> 1 Hashtags\n",
      "#tacos --> 1 Hashtags\n",
      "#summer --> 1 Hashtags\n",
      "#spicyfood --> 1 Hashtags\n",
      "#soyamanchurian --> 1 Hashtags\n",
      "#southindianfood --> 1 Hashtags\n",
      "#snacksrecipe --> 1 Hashtags\n",
      "#snacks --> 1 Hashtags\n",
      "#snack --> 1 Hashtags\n",
      "#smores --> 1 Hashtags\n",
      "#smoothierecipes --> 1 Hashtags\n",
      "#smoothiebowls --> 1 Hashtags\n",
      "#smoothie --> 1 Hashtags\n",
      "#shakeshack --> 1 Hashtags\n",
      "#shake --> 1 Hashtags\n",
      "#sauce --> 1 Hashtags\n",
      "#satisfyingvideos --> 1 Hashtags\n",
      "#satisfying --> 1 Hashtags\n",
      "#sanfrancisco --> 1 Hashtags\n",
      "#sandwiches --> 1 Hashtags\n",
      "#sabudanavada --> 1 Hashtags\n",
      "#sabudanatikki --> 1 Hashtags\n",
      "#sabudanakhichdi --> 1 Hashtags\n",
      "#sabudanakheer --> 1 Hashtags\n",
      "#ricekheer --> 1 Hashtags\n",
      "#redchutney --> 1 Hashtags\n",
      "#recipereels --> 1 Hashtags\n",
      "#quickrecipes --> 1 Hashtags\n",
      "#quickchaat --> 1 Hashtags\n",
      "#pulusu --> 1 Hashtags\n",
      "#pulao --> 1 Hashtags\n",
      "#proteinshake --> 1 Hashtags\n",
      "#proteinoats --> 1 Hashtags\n",
      "#proteinfood --> 1 Hashtags\n",
      "#potatorecipes --> 1 Hashtags\n",
      "#postworkoutmeal --> 1 Hashtags\n",
      "#pongal --> 1 Hashtags\n",
      "#plantain --> 1 Hashtags\n",
      "#pizzalover --> 1 Hashtags\n",
      "#pizza --> 1 Hashtags\n",
      "#pepsi --> 1 Hashtags\n",
      "#payasam --> 1 Hashtags\n",
      "#paneerstarter --> 1 Hashtags\n",
      "#paneerpulao --> 1 Hashtags\n",
      "#paneermasala --> 1 Hashtags\n",
      "#paneerdopyaza --> 1 Hashtags\n",
      "#pakora --> 1 Hashtags\n",
      "#onionbhaji --> 1 Hashtags\n",
      "#onion --> 1 Hashtags\n",
      "#oatsrecipe --> 1 Hashtags\n",
      "#oats --> 1 Hashtags\n",
      "#newyorkcity --> 1 Hashtags\n",
      "#navratri2022 --> 1 Hashtags\n",
      "#myfitness --> 1 Hashtags\n",
      "#mrbeastburger --> 1 Hashtags\n",
      "#mrbeast --> 1 Hashtags\n",
      "#minecraft --> 1 Hashtags\n",
      "#miami --> 1 Hashtags\n",
      "#metaverse --> 1 Hashtags\n",
      "#mehndi --> 1 Hashtags\n",
      "#matarpaneer --> 1 Hashtags\n",
      "#masalapaneer --> 1 Hashtags\n",
      "#marudhani --> 1 Hashtags\n",
      "#loveit --> 1 Hashtags\n",
      "#laysrecipe --> 1 Hashtags\n",
      "#layschaat --> 1 Hashtags\n",
      "#lays --> 1 Hashtags\n",
      "#kurkurechaat --> 1 Hashtags\n",
      "#kurkure --> 1 Hashtags\n",
      "#koreansandwich --> 1 Hashtags\n",
      "#koreanbbq --> 1 Hashtags\n",
      "#kheerrecipe --> 1 Hashtags\n",
      "#ketodiet --> 1 Hashtags\n",
      "#keto --> 1 Hashtags\n",
      "#kathirikkaivaruval --> 1 Hashtags\n",
      "#kashmiri --> 1 Hashtags\n",
      "#kandabhaji --> 1 Hashtags\n",
      "#kadaprasad --> 1 Hashtags\n",
      "#kachori --> 1 Hashtags\n",
      "#italian --> 1 Hashtags\n",
      "#indiansweets --> 1 Hashtags\n",
      "#indiancuisine --> 1 Hashtags\n",
      "#idlichutney --> 1 Hashtags\n",
      "#idli --> 1 Hashtags\n",
      "#hotsauce --> 1 Hashtags\n",
      "#hotones --> 1 Hashtags\n",
      "#homecooking --> 1 Hashtags\n",
      "#highprotien --> 1 Hashtags\n",
      "#henna --> 1 Hashtags\n",
      "#healthyrecipies --> 1 Hashtags\n",
      "#healthyrecipes --> 1 Hashtags\n",
      "#healthyfood --> 1 Hashtags\n",
      "#healthydrink --> 1 Hashtags\n",
      "#halwarecipe --> 1 Hashtags\n",
      "#halwa --> 1 Hashtags\n",
      "#habenero --> 1 Hashtags\n",
      "#gym --> 1 Hashtags\n",
      "#gurudwara --> 1 Hashtags\n",
      "#guava --> 1 Hashtags\n",
      "#greenchutney --> 1 Hashtags\n",
      "#granolabowl --> 1 Hashtags\n",
      "#gotsu --> 1 Hashtags\n",
      "#garlicchutney --> 1 Hashtags\n",
      "#foodstagram --> 1 Hashtags\n",
      "#foodporn --> 1 Hashtags\n",
      "#foodnetwork --> 1 Hashtags\n",
      "#foodlover --> 1 Hashtags\n",
      "#foodlove --> 1 Hashtags\n",
      "#foodcollabs --> 1 Hashtags\n",
      "#firstwefeast --> 1 Hashtags\n",
      "#fallflavors --> 1 Hashtags\n",
      "#fall --> 1 Hashtags\n",
      "#exploremore --> 1 Hashtags\n",
      "#dumaloo --> 1 Hashtags\n",
      "#dosalover --> 1 Hashtags\n",
      "#dosa --> 1 Hashtags\n",
      "#dip --> 1 Hashtags\n",
      "#dietfood --> 1 Hashtags\n",
      "#dhabafood --> 1 Hashtags\n",
      "#dessert --> 1 Hashtags\n",
      "#delhistreetsfood --> 1 Hashtags\n",
      "#delhifood --> 1 Hashtags\n",
      "#delhi --> 1 Hashtags\n",
      "#corn --> 1 Hashtags\n",
      "#coldstonecreamery --> 1 Hashtags\n",
      "#coldstone --> 1 Hashtags\n",
      "#chutneyrecipe --> 1 Hashtags\n",
      "#chutney --> 1 Hashtags\n",
      "#chocolate --> 1 Hashtags\n",
      "#chips --> 1 Hashtags\n",
      "#chipolte --> 1 Hashtags\n",
      "#chillipaneer --> 1 Hashtags\n",
      "#chickenwings --> 1 Hashtags\n",
      "#chickenrecipes --> 1 Hashtags\n",
      "#chickenbiryani --> 1 Hashtags\n",
      "#cheese --> 1 Hashtags\n",
      "#challi --> 1 Hashtags\n",
      "#chakna --> 1 Hashtags\n",
      "#chaatrecipe --> 1 Hashtags\n",
      "#butterboards --> 1 Hashtags\n",
      "#butter --> 1 Hashtags\n",
      "#butta --> 1 Hashtags\n",
      "#burrito --> 1 Hashtags\n",
      "#burgers --> 1 Hashtags\n",
      "#brooklyn --> 1 Hashtags\n",
      "#brinjalfry --> 1 Hashtags\n",
      "#bobbyflay --> 1 Hashtags\n",
      "#biryanirecipe --> 1 Hashtags\n",
      "#biryanilovers --> 1 Hashtags\n",
      "#biryani --> 1 Hashtags\n",
      "#birriatacos --> 1 Hashtags\n",
      "#bhutta --> 1 Hashtags\n",
      "#beatbobbyflay --> 1 Hashtags\n",
      "#bananashake --> 1 Hashtags\n",
      "#banana --> 1 Hashtags\n",
      "#arbi --> 1 Hashtags\n",
      "#apples --> 1 Hashtags\n",
      "#appleciderdonuts --> 1 Hashtags\n",
      "#applecider --> 1 Hashtags\n",
      "#alootikki --> 1 Hashtags\n",
      "#aloosabzi --> 1 Hashtags\n",
      "#aloorecipes --> 1 Hashtags\n",
      "#aloopuri --> 1 Hashtags\n",
      "#aatekahalwa --> 1 Hashtags\n",
      "#PepsiSmores --> 1 Hashtags\n",
      "#Navratri --> 1 Hashtags\n",
      "#777foods --> 1 Hashtags\n"
     ]
    }
   ],
   "source": [
    "\"\"\"\n",
    "To answer this question I have made a function that sorts the given dictionary by values\n",
    "I call this function by passing the word frequency dictionary and got sorted words by frequency\n",
    "Through this function I got to know that #foodies and #food is the most popular among the 5 bloggers, this can be changed over time.\n",
    "\"\"\"\n",
    "def sort_by_value(Dict):\n",
    "    sorted_data = [[value,key] for key,value in Dict.items()]\n",
    "    sorted_data.sort(reverse=True)\n",
    "    return sorted_data\n",
    "\n",
    "# Now, find the hashtags that were most popular among these bloggers\n",
    "hastag_with_frequency = sort_by_value(word_freq_dict)\n",
    "\n",
    "# top hashtags\n",
    "for i in hastag_with_frequency:\n",
    "    print(i[1],'-->',i[0],'Hashtags')"
   ]
  },
  {
   "cell_type": "markdown",
   "id": "981c8b39",
   "metadata": {},
   "source": [
    "### 5.Plot a Pie Chart of the top 5 hashtags obtained and the number of times they were used by these bloggers in the scraped posts."
   ]
  },
  {
   "cell_type": "code",
   "execution_count": 101,
   "id": "ba172983",
   "metadata": {},
   "outputs": [
    {
     "data": {
      "image/png": "[encoded data removed]",
      "text/plain": [
       "<Figure size 432x288 with 1 Axes>"
      ]
     },
     "metadata": {},
     "output_type": "display_data"
    }
   ],
   "source": [
    "# Plot a Pie Chart of the top 5 hashtags obtained and the number of times they were used by these bloggers in the scraped posts.\n",
    "top_five_hastags = [ i[1] for i in hastag_with_frequency[:5]]\n",
    "hastag_counts = [ i[0] for i in hastag_with_frequency[:5]]\n",
    "\n",
    "# Pie graph to get the idea of which hashtag has been used for most of the time.\n",
    "plt.pie(hastag_counts,labels=top_five_hastags,autopct=\"%.2f\")\n",
    "plt.show()"
   ]
  },
  {
   "cell_type": "markdown",
   "id": "5dbcde2d",
   "metadata": {},
   "source": [
    "# Probem 3 : \n",
    "    You need to also calculate average followers : likes ratio for the obtained handles. Followers : Likes ratio is calculated as follows:\n",
    "    "
   ]
  },
  {
   "cell_type": "markdown",
   "id": "1bd18d01",
   "metadata": {},
   "source": [
    "#### 1. Find out the likes of the top 10 posts of the 5 handles obtained earlier."
   ]
  },
  {
   "cell_type": "code",
   "execution_count": 102,
   "id": "7b9ad372",
   "metadata": {
    "scrolled": true
   },
   "outputs": [
    {
     "name": "stdout",
     "output_type": "stream",
     "text": [
      "---------------------------------\n",
      "Total Likes for 10 Posts\n",
      "---------------------------------\n",
      "foodzeee ---> 1263670\n",
      "\n",
      "foodsandflavorsbyshilpi ---> 2213464\n",
      "\n",
      "foodiesfood_court ---> 164920\n",
      "\n",
      "food ---> 1750\n",
      "\n",
      "delhi_streets_food ---> 26640\n",
      "\n"
     ]
    }
   ],
   "source": [
    "\"\"\"\n",
    "To find Likes of the top 10 posts of handles I made a function named Likes_of_post it takes two arguments\n",
    "1. profile link\n",
    "2. Number of posts of which users want to know the total likes\n",
    "This function is suitable for n number of posts. I put 5 handles in function one by one which I found earlier and \n",
    "find out the likes of the top 10 posts. print them\n",
    "\"\"\"\n",
    "\n",
    "def Likes_of_post(user_url,No_of_post):\n",
    "        \n",
    "    Totel_Likes = 0\n",
    "    driver.get(user_url)\n",
    "    sleep(2)\n",
    "    First_Post = wait.until(EC.presence_of_element_located((By.XPATH,'//div[@class=\"_ac7v _aang\"]/div[1]')))\n",
    "    First_Post.click()\n",
    "    no_of_post=0\n",
    "    while True:\n",
    "\n",
    "        HTML = wait.until(EC.presence_of_element_located((By.XPATH,'//section[@class=\"_ae5m _ae5n _ae5o\"]')))\n",
    "        Likes = BeautifulSoup(HTML.get_attribute('innerHTML'),'html.parser').find_all('span')[-1]\n",
    "        Likes = int(Likes.text.replace(',',''))\n",
    "        Totel_Likes+=Likes\n",
    "        no_of_post += 1\n",
    "        if No_of_post==no_of_post:\n",
    "            break\n",
    "\n",
    "        Next_post = wait.until(EC.presence_of_element_located((By.XPATH,'//div[@class=\" _aaqg _aaqh\"]/button')))\n",
    "        Next_post.click()\n",
    "        sleep(2)\n",
    "\n",
    "    driver.back()\n",
    "    return Totel_Likes\n",
    "\n",
    "\n",
    "# iterate over top 5 user handle and put profile link in function\n",
    "print(\"---------------------------------\")\n",
    "print(\"Total Likes for 10 Posts\")\n",
    "print(\"---------------------------------\")\n",
    "Total_likes_of_user = {}\n",
    "for Id in Top_5_handle:\n",
    "    user_url = Store_user_IDs[Id]\n",
    "    Total_Likes = Likes_of_post(user_url,10)\n",
    "    Total_likes_of_user[Id]=Total_Likes\n",
    "    print(Id,'--->',Total_Likes)\n",
    "    print()"
   ]
  },
  {
   "cell_type": "code",
   "execution_count": 123,
   "id": "cc018da6",
   "metadata": {},
   "outputs": [
    {
     "data": {
      "text/html": [
       "<video src=\"Video/V-6.mp4\" controls  width=\"1000\"  height=\"900\">\n",
       "      Your browser does not support the <code>video</code> element.\n",
       "    </video>"
      ],
      "text/plain": [
       "<IPython.core.display.Video object>"
      ]
     },
     "execution_count": 123,
     "metadata": {},
     "output_type": "execute_result"
    }
   ],
   "source": [
    "# video Representation \n",
    "Video(\"Video/V-6.mp4\",width=1000,height=900)"
   ]
  },
  {
   "cell_type": "markdown",
   "id": "8e9a17dc",
   "metadata": {},
   "source": [
    "#### 2.Calculate the average likes for a handle."
   ]
  },
  {
   "cell_type": "code",
   "execution_count": 103,
   "id": "125cd121",
   "metadata": {},
   "outputs": [
    {
     "name": "stdout",
     "output_type": "stream",
     "text": [
      "---------------------------------\n",
      "Average Likes\n",
      "---------------------------------\n",
      "foodzeee ----> 126367\n",
      "foodsandflavorsbyshilpi ----> 221346\n",
      "foodiesfood_court ----> 16492\n",
      "food ----> 175\n",
      "delhi_streets_food ----> 2664\n"
     ]
    }
   ],
   "source": [
    "'''\n",
    "I have made a function named get_avg_likes to calculate average likes this function will take two argument\n",
    "1. Total Likes per user\n",
    "2. Number of Posts\n",
    "'''\n",
    "def get_avg_likes(Total_Likes,Number_of_Post):\n",
    "    avg_likes = Total_Likes / Number_of_Post\n",
    "    return avg_likes\n",
    "\n",
    "# calculating avarge likes for 5 handles for 10 posts and store the result in list\n",
    "print(\"---------------------------------\")\n",
    "print(\"Average Likes\")\n",
    "print(\"---------------------------------\")\n",
    "average_likes_dict={}\n",
    "for Id,Total_Likes in Total_likes_of_user.items():\n",
    "    avg_likes = get_avg_likes(Total_Likes,10)\n",
    "    average_likes_dict[Id]=avg_likes\n",
    "    print(Id,'---->',format(avg_likes,'.0f'))"
   ]
  },
  {
   "cell_type": "markdown",
   "id": "c6185b3c",
   "metadata": {},
   "source": [
    "#### 3.Divide the average likes obtained from the number of followers of the handle to get the average followers:like ratio of each handle."
   ]
  },
  {
   "cell_type": "code",
   "execution_count": 104,
   "id": "b075ea0c",
   "metadata": {},
   "outputs": [
    {
     "name": "stdout",
     "output_type": "stream",
     "text": [
      "---------------------------------\n",
      "Ratio Avg Followers : Avg Likes\n",
      "---------------------------------\n",
      "foodzeee ----> 10 : 126367\n",
      "foodsandflavorsbyshilpi ----> 2 : 221346\n",
      "foodiesfood_court ----> 26 : 16492\n",
      "food ----> 1030 : 175\n",
      "delhi_streets_food ----> 14 : 2664\n"
     ]
    }
   ],
   "source": [
    "print(\"---------------------------------\")\n",
    "print(\"Ratio Avg Followers : Avg Likes\")\n",
    "print(\"---------------------------------\")\n",
    "avg_followers = {}\n",
    "for ID in Top_5_handle:\n",
    "    avg_followers_count = int(Top_5_followed_user[ID]/average_likes_dict[ID])\n",
    "    avg_followers[ID]=avg_followers_count\n",
    "    print(ID,'---->',avg_followers_count,':',int(average_likes_dict[ID]))"
   ]
  },
  {
   "cell_type": "markdown",
   "id": "3717fd49",
   "metadata": {},
   "source": [
    "#### 4.Create a bar graph to depict the above obtained information."
   ]
  },
  {
   "cell_type": "code",
   "execution_count": null,
   "id": "31c36d76",
   "metadata": {},
   "outputs": [],
   "source": [
    "#Plotting Bar Graph for average likes of each handle"
   ]
  },
  {
   "cell_type": "code",
   "execution_count": 105,
   "id": "21466621",
   "metadata": {},
   "outputs": [
    {
     "data": {
      "image/png": "[encoded data removed]",
      "text/plain": [
       "<Figure size 432x288 with 1 Axes>"
      ]
     },
     "metadata": {
      "needs_background": "light"
     },
     "output_type": "display_data"
    }
   ],
   "source": [
    "#for this I will use answer of problem 3.2 \n",
    "username = list(average_likes_dict.keys())\n",
    "avg_like = list(average_likes_dict.values())\n",
    "\n",
    "plt.bar(username,avg_like,color='g',alpha=0.6)\n",
    "plt.ylabel(\"Average Likes\",size=15)\n",
    "plt.xlabel(\"Handle's Name\",size=15)\n",
    "plt.xticks(rotation = 45)\n",
    "plt.title('Average like for each handle ',fontsize=20, color='green',alpha=0.8)\n",
    "plt.grid()\n",
    "plt.show()"
   ]
  },
  {
   "cell_type": "code",
   "execution_count": null,
   "id": "3a5e458d",
   "metadata": {},
   "outputs": [],
   "source": [
    "# Plotting Bar Graph for average followers:like ratio of each handle"
   ]
  },
  {
   "cell_type": "code",
   "execution_count": 106,
   "id": "7fe03155",
   "metadata": {},
   "outputs": [
    {
     "data": {
      "image/png": "[encoded data removed]",
      "text/plain": [
       "<Figure size 432x288 with 1 Axes>"
      ]
     },
     "metadata": {
      "needs_background": "light"
     },
     "output_type": "display_data"
    }
   ],
   "source": [
    "#For this I will use answer of problem 3.3\n",
    "username = list(avg_followers.keys())\n",
    "avg_like = list(avg_followers.values())\n",
    "\n",
    "plt.bar(username,avg_like,color='Indigo',alpha=0.6)\n",
    "plt.ylabel(\"Average Followers:Like Ratio\",size=12)\n",
    "plt.xlabel(\"Handle's Name\",size=12)\n",
    "plt.xticks(rotation = 45)\n",
    "plt.title('Average Followers:Like Ratio of Each Handle ',fontsize=20, color='Indigo',alpha=0.8)\n",
    "plt.grid()\n",
    "plt.show()"
   ]
  },
  {
   "cell_type": "code",
   "execution_count": 107,
   "id": "8893e696",
   "metadata": {},
   "outputs": [],
   "source": [
    "driver.close()\n"
   ]
  },
  {
   "cell_type": "code",
   "execution_count": null,
   "id": "0e838265",
   "metadata": {},
   "outputs": [],
   "source": []
  }
 ],
 "metadata": {
  "kernelspec": {
   "display_name": "Python 3 (ipykernel)",
   "language": "python",
   "name": "python3"
  },
  "language_info": {
   "codemirror_mode": {
    "name": "ipython",
    "version": 3
   },
   "file_extension": ".py",
   "mimetype": "text/x-python",
   "name": "python",
   "nbconvert_exporter": "python",
   "pygments_lexer": "ipython3",
   "version": "3.10.4"
  }
 },
 "nbformat": 4,
 "nbformat_minor": 5
}
