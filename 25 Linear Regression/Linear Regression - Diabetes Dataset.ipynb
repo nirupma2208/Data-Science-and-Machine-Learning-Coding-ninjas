{
 "cells": [
  {
   "cell_type": "markdown",
   "id": "696b7d06",
   "metadata": {},
   "source": [
    "# Linear Regression - Diabetes Dataset\n",
    "    Diabetes dataset is one of the datasets available in sklearn. The diabetes dataset consists of 10 physiological variables (age, sex, weight, blood pressure) measure on 442 patients, and an indication of disease progression after one year.\n",
    "    You are given a Training dataset csv file with X train and Y train data. As studied in lecture, your task is to come up with Linear Regression training algorithm and thus predictions for the test dataset given.\n",
    "    Read Instructions carefully -\n",
    "    \n",
    "    1. Use Linear Regression(in scikit learn) as a training algorithm and submit results predicted by that.\n",
    "    2. Files are in csv format, use genfromtxt function in numpy to load data from csv file. Similarly you can use savetxt function to save data into a file.\n",
    "    3. Submit a csv file with only predictions for X test data. File should not have any headers and should only have one column i.e. predictions.  Also prediction values in file should be upto **5** decimal places.\n",
    "    4. Upon submission of predictions, the score you will get is based on coefficient of determination.\n"
   ]
  },
  {
   "cell_type": "code",
   "execution_count": 301,
   "id": "cdc45591",
   "metadata": {},
   "outputs": [],
   "source": [
    "import numpy as np \n",
    "from sklearn import model_selection\n",
    "from sklearn.linear_model import LinearRegression"
   ]
  },
  {
   "cell_type": "code",
   "execution_count": 383,
   "id": "9b403af1",
   "metadata": {},
   "outputs": [],
   "source": [
    "\"\"\" Importent function for further use \"\"\"\n",
    "# This function returns the score using the Y(actual) and Y(predited), coefficient of determination.\n",
    "def score(y_truth, y_pred): \n",
    "    u = ((y_truth - y_pred)**2).sum()\n",
    "    v = ((y_truth - y_truth.mean())**2).sum()\n",
    "    return 1 - u/v"
   ]
  },
  {
   "cell_type": "code",
   "execution_count": 384,
   "id": "6b6f6dd3",
   "metadata": {},
   "outputs": [],
   "source": [
    "\"\"\" Read the data which is given in question\"\"\"\n",
    "\n",
    "Train_data = np.loadtxt('0000000000002329_training_diabetes_x_y_train.csv',delimiter=',')\n",
    "Test_data = np.loadtxt('0000000000002329_test_diabetes_x_test.csv',delimiter=',')"
   ]
  },
  {
   "cell_type": "code",
   "execution_count": 385,
   "id": "a56f8fe6",
   "metadata": {},
   "outputs": [
    {
     "data": {
      "text/plain": [
       "(331, 11)"
      ]
     },
     "execution_count": 385,
     "metadata": {},
     "output_type": "execute_result"
    }
   ],
   "source": [
    "Train_data.shape"
   ]
  },
  {
   "cell_type": "code",
   "execution_count": 386,
   "id": "28e0d79a",
   "metadata": {},
   "outputs": [
    {
     "data": {
      "text/plain": [
       "(111, 10)"
      ]
     },
     "execution_count": 386,
     "metadata": {},
     "output_type": "execute_result"
    }
   ],
   "source": [
    "Test_data.shape"
   ]
  },
  {
   "cell_type": "code",
   "execution_count": 387,
   "id": "52ac989c",
   "metadata": {},
   "outputs": [],
   "source": [
    "X=Train_data[:, :10]\n",
    "Y=Train_data[:, 10:]"
   ]
  },
  {
   "cell_type": "code",
   "execution_count": 388,
   "id": "a65fceee",
   "metadata": {},
   "outputs": [
    {
     "name": "stdout",
     "output_type": "stream",
     "text": [
      "(331, 10)\n",
      "(331, 1)\n"
     ]
    }
   ],
   "source": [
    "print(X.shape)\n",
    "print(Y.shape)"
   ]
  },
  {
   "cell_type": "code",
   "execution_count": 389,
   "id": "32e06548",
   "metadata": {},
   "outputs": [],
   "source": [
    "\"\"\" Split the data into Training and Testing data to check by my own \"\"\"\n",
    "x_train,x_test,y_train,y_test = model_selection.train_test_split(X,Y,test_size=0.15)"
   ]
  },
  {
   "cell_type": "code",
   "execution_count": 390,
   "id": "5de084eb",
   "metadata": {},
   "outputs": [
    {
     "name": "stdout",
     "output_type": "stream",
     "text": [
      "(281, 10)\n",
      "(50, 10)\n",
      "(281, 1)\n",
      "(50, 1)\n"
     ]
    }
   ],
   "source": [
    "print(x_train.shape)\n",
    "print(x_test.shape)\n",
    "print(y_train.shape)\n",
    "print(y_test.shape)"
   ]
  },
  {
   "cell_type": "markdown",
   "id": "1ac9768c",
   "metadata": {},
   "source": [
    "### coefficient of determination."
   ]
  },
  {
   "cell_type": "code",
   "execution_count": 396,
   "id": "71fa38e7",
   "metadata": {},
   "outputs": [
    {
     "name": "stdout",
     "output_type": "stream",
     "text": [
      "--------- testing score -----------\n"
     ]
    },
    {
     "data": {
      "text/plain": [
       "0.4886203433742856"
      ]
     },
     "execution_count": 396,
     "metadata": {},
     "output_type": "execute_result"
    }
   ],
   "source": [
    "algo = LinearRegression()\n",
    "algo.fit(x_train,y_train)\n",
    "y_pred = algo.predict(x_test)\n",
    "print('--------- testing score -----------')\n",
    "score(y_test,y_pred)"
   ]
  },
  {
   "cell_type": "code",
   "execution_count": 399,
   "id": "c56c0e75",
   "metadata": {},
   "outputs": [
    {
     "name": "stdout",
     "output_type": "stream",
     "text": [
      "--------- training score -----------\n"
     ]
    },
    {
     "data": {
      "text/plain": [
       "0.493386296429277"
      ]
     },
     "execution_count": 399,
     "metadata": {},
     "output_type": "execute_result"
    }
   ],
   "source": [
    "algo = LinearRegression()\n",
    "algo.fit(x_train,y_train)\n",
    "y_train_pred = algo.predict(x_train)\n",
    "print('--------- training score -----------')\n",
    "score(y_train,y_train_pred)\n"
   ]
  },
  {
   "cell_type": "markdown",
   "id": "27369a42",
   "metadata": {},
   "source": [
    "### Now to save predictions of given testing csv data using given training data"
   ]
  },
  {
   "cell_type": "code",
   "execution_count": 425,
   "id": "04d6168b",
   "metadata": {},
   "outputs": [],
   "source": [
    "X_test=Test_data\n",
    "X_train=Train_data[:, :10]\n",
    "Y_train=Train_data[:, 10:]"
   ]
  },
  {
   "cell_type": "code",
   "execution_count": 426,
   "id": "31652f8c",
   "metadata": {},
   "outputs": [],
   "source": [
    "\n",
    "algo = LinearRegression()\n",
    "algo.fit(X_train,Y_train)\n",
    "Y_PRED = algo.predict(X_test)\n"
   ]
  },
  {
   "cell_type": "code",
   "execution_count": 427,
   "id": "e5b85a18",
   "metadata": {},
   "outputs": [
    {
     "data": {
      "text/plain": [
       "array([[105.52975],\n",
       "       [105.80392],\n",
       "       [178.60857],\n",
       "       [ 79.38288],\n",
       "       [ 52.95869],\n",
       "       [ 98.87264],\n",
       "       [150.71755],\n",
       "       [ 34.86515],\n",
       "       [113.13536],\n",
       "       [161.50184],\n",
       "       [135.86156],\n",
       "       [ 94.71592],\n",
       "       [138.48094],\n",
       "       [141.37442],\n",
       "       [158.76863],\n",
       "       [171.65289],\n",
       "       [106.44836],\n",
       "       [103.9266 ],\n",
       "       [ 95.38694],\n",
       "       [167.40118],\n",
       "       [166.53426],\n",
       "       [101.53465],\n",
       "       [252.45036],\n",
       "       [147.02259],\n",
       "       [214.78907],\n",
       "       [161.27557],\n",
       "       [210.61315],\n",
       "       [ 71.78092],\n",
       "       [189.65032],\n",
       "       [206.61343],\n",
       "       [219.98643],\n",
       "       [168.80193],\n",
       "       [116.84846],\n",
       "       [178.744  ],\n",
       "       [ 77.03247],\n",
       "       [ 59.54633],\n",
       "       [111.56738],\n",
       "       [156.95187],\n",
       "       [154.59591],\n",
       "       [198.94457],\n",
       "       [115.53884],\n",
       "       [153.46699],\n",
       "       [ 84.9618 ],\n",
       "       [113.70337],\n",
       "       [142.14156],\n",
       "       [147.3104 ],\n",
       "       [ 82.78072],\n",
       "       [ 77.89237],\n",
       "       [128.99006],\n",
       "       [261.58712],\n",
       "       [213.31188],\n",
       "       [243.98791],\n",
       "       [167.68132],\n",
       "       [183.69712],\n",
       "       [166.85927],\n",
       "       [202.1144 ],\n",
       "       [220.39236],\n",
       "       [172.40288],\n",
       "       [176.60898],\n",
       "       [109.04657],\n",
       "       [276.3779 ],\n",
       "       [ 90.99942],\n",
       "       [289.37221],\n",
       "       [119.56253],\n",
       "       [ 75.45688],\n",
       "       [180.78599],\n",
       "       [146.62093],\n",
       "       [156.42382],\n",
       "       [ 41.07904],\n",
       "       [247.90645],\n",
       "       [207.99121],\n",
       "       [ 90.09641],\n",
       "       [222.2417 ],\n",
       "       [189.86378],\n",
       "       [182.26954],\n",
       "       [164.39881],\n",
       "       [190.27067],\n",
       "       [105.44868],\n",
       "       [199.86136],\n",
       "       [245.79639],\n",
       "       [123.20281],\n",
       "       [119.41032],\n",
       "       [145.8662 ],\n",
       "       [206.19247],\n",
       "       [150.86282],\n",
       "       [142.23222],\n",
       "       [154.56875],\n",
       "       [115.29233],\n",
       "       [134.0781 ],\n",
       "       [118.42225],\n",
       "       [203.57676],\n",
       "       [170.66484],\n",
       "       [127.4098 ],\n",
       "       [ 57.13508],\n",
       "       [231.92227],\n",
       "       [185.20714],\n",
       "       [187.37495],\n",
       "       [ 83.55921],\n",
       "       [185.42586],\n",
       "       [217.34036],\n",
       "       [108.86715],\n",
       "       [ 80.98715],\n",
       "       [127.05524],\n",
       "       [242.00739],\n",
       "       [155.97234],\n",
       "       [125.67575],\n",
       "       [246.41236],\n",
       "       [234.96393],\n",
       "       [191.51298],\n",
       "       [168.33254],\n",
       "       [163.02965]])"
      ]
     },
     "execution_count": 427,
     "metadata": {},
     "output_type": "execute_result"
    }
   ],
   "source": [
    "\"\"\" Coverting to 5 decimals values\"\"\"\n",
    "Y_PRED = np.around(Y_PRED, decimals=5)\n",
    "Y_PRED"
   ]
  },
  {
   "cell_type": "code",
   "execution_count": 428,
   "id": "12bde01d",
   "metadata": {},
   "outputs": [],
   "source": [
    "\"\"\" Save the predicted_data \"\"\"\n",
    "np.savetxt('predicted_data.csv', Y_PRED, delimiter=',')"
   ]
  },
  {
   "cell_type": "code",
   "execution_count": null,
   "id": "b2c8da06",
   "metadata": {},
   "outputs": [],
   "source": []
  }
 ],
 "metadata": {
  "kernelspec": {
   "display_name": "Python 3 (ipykernel)",
   "language": "python",
   "name": "python3"
  },
  "language_info": {
   "codemirror_mode": {
    "name": "ipython",
    "version": 3
   },
   "file_extension": ".py",
   "mimetype": "text/x-python",
   "name": "python",
   "nbconvert_exporter": "python",
   "pygments_lexer": "ipython3",
   "version": "3.9.13"
  },
  "varInspector": {
   "cols": {
    "lenName": 16,
    "lenType": 16,
    "lenVar": 40
   },
   "kernels_config": {
    "python": {
     "delete_cmd_postfix": "",
     "delete_cmd_prefix": "del ",
     "library": "var_list.py",
     "varRefreshCmd": "print(var_dic_list())"
    },
    "r": {
     "delete_cmd_postfix": ") ",
     "delete_cmd_prefix": "rm(",
     "library": "var_list.r",
     "varRefreshCmd": "cat(var_dic_list()) "
    }
   },
   "types_to_exclude": [
    "module",
    "function",
    "builtin_function_or_method",
    "instance",
    "_Feature"
   ],
   "window_display": false
  }
 },
 "nbformat": 4,
 "nbformat_minor": 5
}
