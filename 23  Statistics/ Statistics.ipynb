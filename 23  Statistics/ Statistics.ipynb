{
 "cells": [
  {
   "cell_type": "markdown",
   "id": "149dc81f",
   "metadata": {},
   "source": [
    "# Average Funding (Without Replacement)\n",
    "    Download the file startup_funding\n",
    "    Problem Statement :\n",
    "    We want to find out the average amount of funding given to startups which are in either Bangalore or in New Delhi.\n",
    "    For this - rather than considering all the startups, take a sample of size 50 (without replacement). Then find the average amount of funding from this sample and calculate the Sampling Error.\n",
    "    Sampling Error = Average(Population) - Average(Sample)\n",
    "    Note:\n",
    "    Take city name \"Delhi\" as \"New Delhi\".\n",
    "    Check the case-sensitiveness of cities also. That means - at some place, instead of \"Bangalore\", \"bangalore\" is given. Take city name as \"Bangalore\"\n",
    "    Output :\n",
    "     Print Sampling Error"
   ]
  },
  {
   "cell_type": "code",
   "execution_count": 1,
   "id": "d3d9aab0",
   "metadata": {},
   "outputs": [],
   "source": [
    "import pandas as pd "
   ]
  },
  {
   "cell_type": "code",
   "execution_count": 18,
   "id": "24ede45e",
   "metadata": {},
   "outputs": [
    {
     "data": {
      "text/html": [
       "<div>\n",
       "<style scoped>\n",
       "    .dataframe tbody tr th:only-of-type {\n",
       "        vertical-align: middle;\n",
       "    }\n",
       "\n",
       "    .dataframe tbody tr th {\n",
       "        vertical-align: top;\n",
       "    }\n",
       "\n",
       "    .dataframe thead th {\n",
       "        text-align: right;\n",
       "    }\n",
       "</style>\n",
       "<table border=\"1\" class=\"dataframe\">\n",
       "  <thead>\n",
       "    <tr style=\"text-align: right;\">\n",
       "      <th></th>\n",
       "      <th>SNo</th>\n",
       "      <th>Date</th>\n",
       "      <th>StartupName</th>\n",
       "      <th>IndustryVertical</th>\n",
       "      <th>SubVertical</th>\n",
       "      <th>CityLocation</th>\n",
       "      <th>InvestorsName</th>\n",
       "      <th>InvestmentType</th>\n",
       "      <th>AmountInUSD</th>\n",
       "      <th>Remarks</th>\n",
       "    </tr>\n",
       "  </thead>\n",
       "  <tbody>\n",
       "    <tr>\n",
       "      <th>0</th>\n",
       "      <td>0</td>\n",
       "      <td>01/08/2017</td>\n",
       "      <td>TouchKin</td>\n",
       "      <td>Technology</td>\n",
       "      <td>Predictive Care Platform</td>\n",
       "      <td>Bangalore</td>\n",
       "      <td>Kae Capital</td>\n",
       "      <td>Private Equity</td>\n",
       "      <td>1,300,000</td>\n",
       "      <td>NaN</td>\n",
       "    </tr>\n",
       "    <tr>\n",
       "      <th>1</th>\n",
       "      <td>1</td>\n",
       "      <td>02/08/2017</td>\n",
       "      <td>Ethinos</td>\n",
       "      <td>Technology</td>\n",
       "      <td>Digital Marketing Agency</td>\n",
       "      <td>Mumbai</td>\n",
       "      <td>Triton Investment Advisors</td>\n",
       "      <td>Private Equity</td>\n",
       "      <td>NaN</td>\n",
       "      <td>NaN</td>\n",
       "    </tr>\n",
       "    <tr>\n",
       "      <th>2</th>\n",
       "      <td>2</td>\n",
       "      <td>02/08/2017</td>\n",
       "      <td>Leverage Edu</td>\n",
       "      <td>Consumer Internet</td>\n",
       "      <td>Online platform for Higher Education Services</td>\n",
       "      <td>New Delhi</td>\n",
       "      <td>Kashyap Deorah, Anand Sankeshwar, Deepak Jain,...</td>\n",
       "      <td>Seed Funding</td>\n",
       "      <td>NaN</td>\n",
       "      <td>NaN</td>\n",
       "    </tr>\n",
       "    <tr>\n",
       "      <th>3</th>\n",
       "      <td>3</td>\n",
       "      <td>02/08/2017</td>\n",
       "      <td>Zepo</td>\n",
       "      <td>Consumer Internet</td>\n",
       "      <td>DIY Ecommerce platform</td>\n",
       "      <td>Mumbai</td>\n",
       "      <td>Kunal Shah, LetsVenture, Anupam Mittal, Hetal ...</td>\n",
       "      <td>Seed Funding</td>\n",
       "      <td>500,000</td>\n",
       "      <td>NaN</td>\n",
       "    </tr>\n",
       "    <tr>\n",
       "      <th>4</th>\n",
       "      <td>4</td>\n",
       "      <td>02/08/2017</td>\n",
       "      <td>Click2Clinic</td>\n",
       "      <td>Consumer Internet</td>\n",
       "      <td>healthcare service aggregator</td>\n",
       "      <td>Hyderabad</td>\n",
       "      <td>Narottam Thudi, Shireesh Palle</td>\n",
       "      <td>Seed Funding</td>\n",
       "      <td>850,000</td>\n",
       "      <td>NaN</td>\n",
       "    </tr>\n",
       "  </tbody>\n",
       "</table>\n",
       "</div>"
      ],
      "text/plain": [
       "   SNo        Date   StartupName   IndustryVertical  \\\n",
       "0    0  01/08/2017      TouchKin         Technology   \n",
       "1    1  02/08/2017       Ethinos         Technology   \n",
       "2    2  02/08/2017  Leverage Edu  Consumer Internet   \n",
       "3    3  02/08/2017          Zepo  Consumer Internet   \n",
       "4    4  02/08/2017  Click2Clinic  Consumer Internet   \n",
       "\n",
       "                                     SubVertical CityLocation  \\\n",
       "0                       Predictive Care Platform    Bangalore   \n",
       "1                       Digital Marketing Agency       Mumbai   \n",
       "2  Online platform for Higher Education Services    New Delhi   \n",
       "3                         DIY Ecommerce platform       Mumbai   \n",
       "4                  healthcare service aggregator    Hyderabad   \n",
       "\n",
       "                                       InvestorsName  InvestmentType  \\\n",
       "0                                        Kae Capital  Private Equity   \n",
       "1                         Triton Investment Advisors  Private Equity   \n",
       "2  Kashyap Deorah, Anand Sankeshwar, Deepak Jain,...    Seed Funding   \n",
       "3  Kunal Shah, LetsVenture, Anupam Mittal, Hetal ...    Seed Funding   \n",
       "4                     Narottam Thudi, Shireesh Palle    Seed Funding   \n",
       "\n",
       "  AmountInUSD Remarks  \n",
       "0   1,300,000     NaN  \n",
       "1         NaN     NaN  \n",
       "2         NaN     NaN  \n",
       "3     500,000     NaN  \n",
       "4     850,000     NaN  "
      ]
     },
     "execution_count": 18,
     "metadata": {},
     "output_type": "execute_result"
    }
   ],
   "source": [
    "df = pd.read_csv('startup_funding.csv')\n",
    "df.head()"
   ]
  },
  {
   "cell_type": "code",
   "execution_count": 30,
   "id": "f547cd28",
   "metadata": {
    "scrolled": true
   },
   "outputs": [],
   "source": [
    "df.dropna(subset=['AmountInUSD','CityLocation'],inplace=True)"
   ]
  },
  {
   "cell_type": "code",
   "execution_count": 31,
   "id": "799a88e5",
   "metadata": {},
   "outputs": [
    {
     "data": {
      "text/html": [
       "<div>\n",
       "<style scoped>\n",
       "    .dataframe tbody tr th:only-of-type {\n",
       "        vertical-align: middle;\n",
       "    }\n",
       "\n",
       "    .dataframe tbody tr th {\n",
       "        vertical-align: top;\n",
       "    }\n",
       "\n",
       "    .dataframe thead th {\n",
       "        text-align: right;\n",
       "    }\n",
       "</style>\n",
       "<table border=\"1\" class=\"dataframe\">\n",
       "  <thead>\n",
       "    <tr style=\"text-align: right;\">\n",
       "      <th></th>\n",
       "      <th>SNo</th>\n",
       "      <th>Date</th>\n",
       "      <th>StartupName</th>\n",
       "      <th>IndustryVertical</th>\n",
       "      <th>SubVertical</th>\n",
       "      <th>CityLocation</th>\n",
       "      <th>InvestorsName</th>\n",
       "      <th>InvestmentType</th>\n",
       "      <th>AmountInUSD</th>\n",
       "      <th>Remarks</th>\n",
       "    </tr>\n",
       "  </thead>\n",
       "  <tbody>\n",
       "    <tr>\n",
       "      <th>0</th>\n",
       "      <td>0</td>\n",
       "      <td>01/08/2017</td>\n",
       "      <td>TouchKin</td>\n",
       "      <td>Technology</td>\n",
       "      <td>Predictive Care Platform</td>\n",
       "      <td>Bangalore</td>\n",
       "      <td>Kae Capital</td>\n",
       "      <td>Private Equity</td>\n",
       "      <td>1,300,000</td>\n",
       "      <td>NaN</td>\n",
       "    </tr>\n",
       "    <tr>\n",
       "      <th>3</th>\n",
       "      <td>3</td>\n",
       "      <td>02/08/2017</td>\n",
       "      <td>Zepo</td>\n",
       "      <td>Consumer Internet</td>\n",
       "      <td>DIY Ecommerce platform</td>\n",
       "      <td>Mumbai</td>\n",
       "      <td>Kunal Shah, LetsVenture, Anupam Mittal, Hetal ...</td>\n",
       "      <td>Seed Funding</td>\n",
       "      <td>500,000</td>\n",
       "      <td>NaN</td>\n",
       "    </tr>\n",
       "    <tr>\n",
       "      <th>4</th>\n",
       "      <td>4</td>\n",
       "      <td>02/08/2017</td>\n",
       "      <td>Click2Clinic</td>\n",
       "      <td>Consumer Internet</td>\n",
       "      <td>healthcare service aggregator</td>\n",
       "      <td>Hyderabad</td>\n",
       "      <td>Narottam Thudi, Shireesh Palle</td>\n",
       "      <td>Seed Funding</td>\n",
       "      <td>850,000</td>\n",
       "      <td>NaN</td>\n",
       "    </tr>\n",
       "    <tr>\n",
       "      <th>5</th>\n",
       "      <td>5</td>\n",
       "      <td>01/07/2017</td>\n",
       "      <td>Billion Loans</td>\n",
       "      <td>Consumer Internet</td>\n",
       "      <td>Peer to Peer Lending platform</td>\n",
       "      <td>Bangalore</td>\n",
       "      <td>Reliance Corporate Advisory Services Ltd</td>\n",
       "      <td>Seed Funding</td>\n",
       "      <td>1,000,000</td>\n",
       "      <td>NaN</td>\n",
       "    </tr>\n",
       "    <tr>\n",
       "      <th>6</th>\n",
       "      <td>6</td>\n",
       "      <td>03/07/2017</td>\n",
       "      <td>Ecolibriumenergy</td>\n",
       "      <td>Technology</td>\n",
       "      <td>Energy management solutions provider</td>\n",
       "      <td>Ahmedabad</td>\n",
       "      <td>Infuse Ventures, JLL</td>\n",
       "      <td>Private Equity</td>\n",
       "      <td>2,600,000</td>\n",
       "      <td>NaN</td>\n",
       "    </tr>\n",
       "  </tbody>\n",
       "</table>\n",
       "</div>"
      ],
      "text/plain": [
       "   SNo        Date       StartupName   IndustryVertical  \\\n",
       "0    0  01/08/2017          TouchKin         Technology   \n",
       "3    3  02/08/2017              Zepo  Consumer Internet   \n",
       "4    4  02/08/2017      Click2Clinic  Consumer Internet   \n",
       "5    5  01/07/2017     Billion Loans  Consumer Internet   \n",
       "6    6  03/07/2017  Ecolibriumenergy         Technology   \n",
       "\n",
       "                            SubVertical CityLocation  \\\n",
       "0              Predictive Care Platform    Bangalore   \n",
       "3                DIY Ecommerce platform       Mumbai   \n",
       "4         healthcare service aggregator    Hyderabad   \n",
       "5         Peer to Peer Lending platform    Bangalore   \n",
       "6  Energy management solutions provider    Ahmedabad   \n",
       "\n",
       "                                       InvestorsName  InvestmentType  \\\n",
       "0                                        Kae Capital  Private Equity   \n",
       "3  Kunal Shah, LetsVenture, Anupam Mittal, Hetal ...    Seed Funding   \n",
       "4                     Narottam Thudi, Shireesh Palle    Seed Funding   \n",
       "5           Reliance Corporate Advisory Services Ltd    Seed Funding   \n",
       "6                               Infuse Ventures, JLL  Private Equity   \n",
       "\n",
       "  AmountInUSD Remarks  \n",
       "0   1,300,000     NaN  \n",
       "3     500,000     NaN  \n",
       "4     850,000     NaN  \n",
       "5   1,000,000     NaN  \n",
       "6   2,600,000     NaN  "
      ]
     },
     "execution_count": 31,
     "metadata": {},
     "output_type": "execute_result"
    }
   ],
   "source": [
    "df.head()"
   ]
  },
  {
   "cell_type": "code",
   "execution_count": 32,
   "id": "218eebc9",
   "metadata": {},
   "outputs": [
    {
     "data": {
      "text/plain": [
       "array(['Bangalore', 'Mumbai', 'Hyderabad', 'Ahmedabad', 'Gurgaon',\n",
       "       'Noida', 'Pune', 'New Delhi', 'Chennai', 'Kolkata', 'Jaipur',\n",
       "       'Missourie', 'Panaji', 'Gwalior', 'Indore', 'Singapore', 'Goa',\n",
       "       'Vadodara', 'Bangalore/ Bangkok', 'Kerala', 'Chandigarh',\n",
       "       'Coimbatore', 'Lucknow', 'Delhi', 'Trivandrum', 'SFO / Bangalore',\n",
       "       'Pune/Seattle', 'Pune / Dubai', 'Bangalore / SFO', 'Varanasi',\n",
       "       'Bhopal', 'New Delhi / US', 'Mumbai / UK', 'Kanpur', 'Jodhpur',\n",
       "       'Hyderabad/USA', 'Boston', 'Bangalore / Palo Alto', 'Mumbai / NY',\n",
       "       'USA/India', 'Noida / Singapore', 'Belgaum', 'Pune / US',\n",
       "       'Bangalore / San Mateo', 'New York/ India', 'US/India',\n",
       "       'Gurgaon / SFO', 'Bangalore / USA', 'Mumbai / Global',\n",
       "       'India / US', 'Dallas / Hyderabad', 'Udupi'], dtype=object)"
      ]
     },
     "execution_count": 32,
     "metadata": {},
     "output_type": "execute_result"
    }
   ],
   "source": [
    "df['CityLocation'].unique()"
   ]
  },
  {
   "cell_type": "code",
   "execution_count": 38,
   "id": "3c6d6746",
   "metadata": {},
   "outputs": [],
   "source": [
    "df = df[df['CityLocation'].str.contains('Bangalore|New Delhi',case=False)]"
   ]
  },
  {
   "cell_type": "code",
   "execution_count": 41,
   "id": "38b42e61",
   "metadata": {},
   "outputs": [
    {
     "data": {
      "text/plain": [
       "array(['Bangalore', 'New Delhi', 'Bangalore/ Bangkok', 'SFO / Bangalore',\n",
       "       'Bangalore / SFO', 'New Delhi / US', 'Bangalore / Palo Alto',\n",
       "       'Bangalore / San Mateo', 'Bangalore / USA'], dtype=object)"
      ]
     },
     "execution_count": 41,
     "metadata": {},
     "output_type": "execute_result"
    }
   ],
   "source": [
    "df['CityLocation'].unique()"
   ]
  },
  {
   "cell_type": "code",
   "execution_count": 45,
   "id": "11aa9fb9",
   "metadata": {},
   "outputs": [],
   "source": [
    "df['AmountInUSD'] = df['AmountInUSD'].str.replace(',','').astype(int)"
   ]
  },
  {
   "cell_type": "code",
   "execution_count": 46,
   "id": "cfd41d52",
   "metadata": {},
   "outputs": [],
   "source": [
    "Population = df['AmountInUSD']"
   ]
  },
  {
   "cell_type": "code",
   "execution_count": 47,
   "id": "2aa97f02",
   "metadata": {},
   "outputs": [
    {
     "data": {
      "text/plain": [
       "17931294.43062201"
      ]
     },
     "execution_count": 47,
     "metadata": {},
     "output_type": "execute_result"
    }
   ],
   "source": [
    "PopulationAvg = Population.mean()\n",
    "PopulationAvg"
   ]
  },
  {
   "cell_type": "code",
   "execution_count": 62,
   "id": "6635916f",
   "metadata": {},
   "outputs": [],
   "source": [
    "Sample = Population.sample(50,random_state=1,replace=False)"
   ]
  },
  {
   "cell_type": "code",
   "execution_count": 63,
   "id": "a556ea04",
   "metadata": {},
   "outputs": [
    {
     "data": {
      "text/plain": [
       "5604320.0"
      ]
     },
     "execution_count": 63,
     "metadata": {},
     "output_type": "execute_result"
    }
   ],
   "source": [
    "SampleAvg = Sample.mean()\n",
    "SampleAvg"
   ]
  },
  {
   "cell_type": "code",
   "execution_count": 64,
   "id": "8bfc71d6",
   "metadata": {},
   "outputs": [
    {
     "data": {
      "text/plain": [
       "12326974.430622011"
      ]
     },
     "execution_count": 64,
     "metadata": {},
     "output_type": "execute_result"
    }
   ],
   "source": [
    "sampling_error = PopulationAvg - SampleAvg\n",
    "sampling_error"
   ]
  },
  {
   "cell_type": "markdown",
   "id": "bfeabcb7",
   "metadata": {},
   "source": [
    "# Stratified Sampling\n",
    "    Download the file startup_funding\n",
    "    Problem Statement :\n",
    "    We want to find out the maximum amount of funding given to any startup in following regions -\n",
    "    Bangalore \n",
    "    NCR (which includes New Delhi, Gurgaon and Noida)\n",
    "    Mumbai \n",
    "    Pune \n",
    "    Hydreabad \n",
    "    So create your population data first by extracting those startups which are in given cities.\n",
    "    Then rather than using SRS for extracting sample, create 5 different stratas based on 5 regions and then apply stratified sampling on these 5 stratas to extract a sample of size 100 startups (taking 20 values from each strata)\n",
    "    Find and print Sampling error.\n",
    "    Note:\n",
    "    Take city name \"Delhi\" as \"New Delhi\".\n",
    "    Check the case-sensitiveness of cities also. That means - at some place, instead of \"Bangalore\", \"bangalore\" is given. Take city name as \"Bangalore\""
   ]
  },
  {
   "cell_type": "code",
   "execution_count": 65,
   "id": "0decf7cf",
   "metadata": {},
   "outputs": [
    {
     "data": {
      "text/html": [
       "<div>\n",
       "<style scoped>\n",
       "    .dataframe tbody tr th:only-of-type {\n",
       "        vertical-align: middle;\n",
       "    }\n",
       "\n",
       "    .dataframe tbody tr th {\n",
       "        vertical-align: top;\n",
       "    }\n",
       "\n",
       "    .dataframe thead th {\n",
       "        text-align: right;\n",
       "    }\n",
       "</style>\n",
       "<table border=\"1\" class=\"dataframe\">\n",
       "  <thead>\n",
       "    <tr style=\"text-align: right;\">\n",
       "      <th></th>\n",
       "      <th>SNo</th>\n",
       "      <th>Date</th>\n",
       "      <th>StartupName</th>\n",
       "      <th>IndustryVertical</th>\n",
       "      <th>SubVertical</th>\n",
       "      <th>CityLocation</th>\n",
       "      <th>InvestorsName</th>\n",
       "      <th>InvestmentType</th>\n",
       "      <th>AmountInUSD</th>\n",
       "      <th>Remarks</th>\n",
       "    </tr>\n",
       "  </thead>\n",
       "  <tbody>\n",
       "    <tr>\n",
       "      <th>0</th>\n",
       "      <td>0</td>\n",
       "      <td>01/08/2017</td>\n",
       "      <td>TouchKin</td>\n",
       "      <td>Technology</td>\n",
       "      <td>Predictive Care Platform</td>\n",
       "      <td>Bangalore</td>\n",
       "      <td>Kae Capital</td>\n",
       "      <td>Private Equity</td>\n",
       "      <td>1,300,000</td>\n",
       "      <td>NaN</td>\n",
       "    </tr>\n",
       "    <tr>\n",
       "      <th>1</th>\n",
       "      <td>1</td>\n",
       "      <td>02/08/2017</td>\n",
       "      <td>Ethinos</td>\n",
       "      <td>Technology</td>\n",
       "      <td>Digital Marketing Agency</td>\n",
       "      <td>Mumbai</td>\n",
       "      <td>Triton Investment Advisors</td>\n",
       "      <td>Private Equity</td>\n",
       "      <td>NaN</td>\n",
       "      <td>NaN</td>\n",
       "    </tr>\n",
       "    <tr>\n",
       "      <th>2</th>\n",
       "      <td>2</td>\n",
       "      <td>02/08/2017</td>\n",
       "      <td>Leverage Edu</td>\n",
       "      <td>Consumer Internet</td>\n",
       "      <td>Online platform for Higher Education Services</td>\n",
       "      <td>New Delhi</td>\n",
       "      <td>Kashyap Deorah, Anand Sankeshwar, Deepak Jain,...</td>\n",
       "      <td>Seed Funding</td>\n",
       "      <td>NaN</td>\n",
       "      <td>NaN</td>\n",
       "    </tr>\n",
       "    <tr>\n",
       "      <th>3</th>\n",
       "      <td>3</td>\n",
       "      <td>02/08/2017</td>\n",
       "      <td>Zepo</td>\n",
       "      <td>Consumer Internet</td>\n",
       "      <td>DIY Ecommerce platform</td>\n",
       "      <td>Mumbai</td>\n",
       "      <td>Kunal Shah, LetsVenture, Anupam Mittal, Hetal ...</td>\n",
       "      <td>Seed Funding</td>\n",
       "      <td>500,000</td>\n",
       "      <td>NaN</td>\n",
       "    </tr>\n",
       "    <tr>\n",
       "      <th>4</th>\n",
       "      <td>4</td>\n",
       "      <td>02/08/2017</td>\n",
       "      <td>Click2Clinic</td>\n",
       "      <td>Consumer Internet</td>\n",
       "      <td>healthcare service aggregator</td>\n",
       "      <td>Hyderabad</td>\n",
       "      <td>Narottam Thudi, Shireesh Palle</td>\n",
       "      <td>Seed Funding</td>\n",
       "      <td>850,000</td>\n",
       "      <td>NaN</td>\n",
       "    </tr>\n",
       "  </tbody>\n",
       "</table>\n",
       "</div>"
      ],
      "text/plain": [
       "   SNo        Date   StartupName   IndustryVertical  \\\n",
       "0    0  01/08/2017      TouchKin         Technology   \n",
       "1    1  02/08/2017       Ethinos         Technology   \n",
       "2    2  02/08/2017  Leverage Edu  Consumer Internet   \n",
       "3    3  02/08/2017          Zepo  Consumer Internet   \n",
       "4    4  02/08/2017  Click2Clinic  Consumer Internet   \n",
       "\n",
       "                                     SubVertical CityLocation  \\\n",
       "0                       Predictive Care Platform    Bangalore   \n",
       "1                       Digital Marketing Agency       Mumbai   \n",
       "2  Online platform for Higher Education Services    New Delhi   \n",
       "3                         DIY Ecommerce platform       Mumbai   \n",
       "4                  healthcare service aggregator    Hyderabad   \n",
       "\n",
       "                                       InvestorsName  InvestmentType  \\\n",
       "0                                        Kae Capital  Private Equity   \n",
       "1                         Triton Investment Advisors  Private Equity   \n",
       "2  Kashyap Deorah, Anand Sankeshwar, Deepak Jain,...    Seed Funding   \n",
       "3  Kunal Shah, LetsVenture, Anupam Mittal, Hetal ...    Seed Funding   \n",
       "4                     Narottam Thudi, Shireesh Palle    Seed Funding   \n",
       "\n",
       "  AmountInUSD Remarks  \n",
       "0   1,300,000     NaN  \n",
       "1         NaN     NaN  \n",
       "2         NaN     NaN  \n",
       "3     500,000     NaN  \n",
       "4     850,000     NaN  "
      ]
     },
     "execution_count": 65,
     "metadata": {},
     "output_type": "execute_result"
    }
   ],
   "source": [
    "df = pd.read_csv('startup_funding.csv')\n",
    "df.head()"
   ]
  },
  {
   "cell_type": "code",
   "execution_count": 66,
   "id": "b250cc8e",
   "metadata": {},
   "outputs": [],
   "source": [
    "df.dropna(subset=['AmountInUSD','CityLocation'],inplace=True)"
   ]
  },
  {
   "cell_type": "code",
   "execution_count": 67,
   "id": "94d1db19",
   "metadata": {},
   "outputs": [
    {
     "data": {
      "text/html": [
       "<div>\n",
       "<style scoped>\n",
       "    .dataframe tbody tr th:only-of-type {\n",
       "        vertical-align: middle;\n",
       "    }\n",
       "\n",
       "    .dataframe tbody tr th {\n",
       "        vertical-align: top;\n",
       "    }\n",
       "\n",
       "    .dataframe thead th {\n",
       "        text-align: right;\n",
       "    }\n",
       "</style>\n",
       "<table border=\"1\" class=\"dataframe\">\n",
       "  <thead>\n",
       "    <tr style=\"text-align: right;\">\n",
       "      <th></th>\n",
       "      <th>SNo</th>\n",
       "      <th>Date</th>\n",
       "      <th>StartupName</th>\n",
       "      <th>IndustryVertical</th>\n",
       "      <th>SubVertical</th>\n",
       "      <th>CityLocation</th>\n",
       "      <th>InvestorsName</th>\n",
       "      <th>InvestmentType</th>\n",
       "      <th>AmountInUSD</th>\n",
       "      <th>Remarks</th>\n",
       "    </tr>\n",
       "  </thead>\n",
       "  <tbody>\n",
       "    <tr>\n",
       "      <th>0</th>\n",
       "      <td>0</td>\n",
       "      <td>01/08/2017</td>\n",
       "      <td>TouchKin</td>\n",
       "      <td>Technology</td>\n",
       "      <td>Predictive Care Platform</td>\n",
       "      <td>Bangalore</td>\n",
       "      <td>Kae Capital</td>\n",
       "      <td>Private Equity</td>\n",
       "      <td>1,300,000</td>\n",
       "      <td>NaN</td>\n",
       "    </tr>\n",
       "    <tr>\n",
       "      <th>3</th>\n",
       "      <td>3</td>\n",
       "      <td>02/08/2017</td>\n",
       "      <td>Zepo</td>\n",
       "      <td>Consumer Internet</td>\n",
       "      <td>DIY Ecommerce platform</td>\n",
       "      <td>Mumbai</td>\n",
       "      <td>Kunal Shah, LetsVenture, Anupam Mittal, Hetal ...</td>\n",
       "      <td>Seed Funding</td>\n",
       "      <td>500,000</td>\n",
       "      <td>NaN</td>\n",
       "    </tr>\n",
       "    <tr>\n",
       "      <th>4</th>\n",
       "      <td>4</td>\n",
       "      <td>02/08/2017</td>\n",
       "      <td>Click2Clinic</td>\n",
       "      <td>Consumer Internet</td>\n",
       "      <td>healthcare service aggregator</td>\n",
       "      <td>Hyderabad</td>\n",
       "      <td>Narottam Thudi, Shireesh Palle</td>\n",
       "      <td>Seed Funding</td>\n",
       "      <td>850,000</td>\n",
       "      <td>NaN</td>\n",
       "    </tr>\n",
       "    <tr>\n",
       "      <th>5</th>\n",
       "      <td>5</td>\n",
       "      <td>01/07/2017</td>\n",
       "      <td>Billion Loans</td>\n",
       "      <td>Consumer Internet</td>\n",
       "      <td>Peer to Peer Lending platform</td>\n",
       "      <td>Bangalore</td>\n",
       "      <td>Reliance Corporate Advisory Services Ltd</td>\n",
       "      <td>Seed Funding</td>\n",
       "      <td>1,000,000</td>\n",
       "      <td>NaN</td>\n",
       "    </tr>\n",
       "    <tr>\n",
       "      <th>6</th>\n",
       "      <td>6</td>\n",
       "      <td>03/07/2017</td>\n",
       "      <td>Ecolibriumenergy</td>\n",
       "      <td>Technology</td>\n",
       "      <td>Energy management solutions provider</td>\n",
       "      <td>Ahmedabad</td>\n",
       "      <td>Infuse Ventures, JLL</td>\n",
       "      <td>Private Equity</td>\n",
       "      <td>2,600,000</td>\n",
       "      <td>NaN</td>\n",
       "    </tr>\n",
       "  </tbody>\n",
       "</table>\n",
       "</div>"
      ],
      "text/plain": [
       "   SNo        Date       StartupName   IndustryVertical  \\\n",
       "0    0  01/08/2017          TouchKin         Technology   \n",
       "3    3  02/08/2017              Zepo  Consumer Internet   \n",
       "4    4  02/08/2017      Click2Clinic  Consumer Internet   \n",
       "5    5  01/07/2017     Billion Loans  Consumer Internet   \n",
       "6    6  03/07/2017  Ecolibriumenergy         Technology   \n",
       "\n",
       "                            SubVertical CityLocation  \\\n",
       "0              Predictive Care Platform    Bangalore   \n",
       "3                DIY Ecommerce platform       Mumbai   \n",
       "4         healthcare service aggregator    Hyderabad   \n",
       "5         Peer to Peer Lending platform    Bangalore   \n",
       "6  Energy management solutions provider    Ahmedabad   \n",
       "\n",
       "                                       InvestorsName  InvestmentType  \\\n",
       "0                                        Kae Capital  Private Equity   \n",
       "3  Kunal Shah, LetsVenture, Anupam Mittal, Hetal ...    Seed Funding   \n",
       "4                     Narottam Thudi, Shireesh Palle    Seed Funding   \n",
       "5           Reliance Corporate Advisory Services Ltd    Seed Funding   \n",
       "6                               Infuse Ventures, JLL  Private Equity   \n",
       "\n",
       "  AmountInUSD Remarks  \n",
       "0   1,300,000     NaN  \n",
       "3     500,000     NaN  \n",
       "4     850,000     NaN  \n",
       "5   1,000,000     NaN  \n",
       "6   2,600,000     NaN  "
      ]
     },
     "execution_count": 67,
     "metadata": {},
     "output_type": "execute_result"
    }
   ],
   "source": [
    "df.head()"
   ]
  },
  {
   "cell_type": "code",
   "execution_count": 73,
   "id": "9533f15c",
   "metadata": {},
   "outputs": [],
   "source": [
    "def split(cl):\n",
    "    return cl.split('/')[0].strip()"
   ]
  },
  {
   "cell_type": "code",
   "execution_count": 78,
   "id": "0d2c4dbf",
   "metadata": {},
   "outputs": [],
   "source": [
    "df['CityLocation'] = df['CityLocation'].apply(split)\n",
    "df = df[df['CityLocation'].str.contains('Bangalore|New Delhi|Gurgaon|Pune|Mumbai|Hydreabad|Noida',case=False)]\n"
   ]
  },
  {
   "cell_type": "code",
   "execution_count": 85,
   "id": "57dc87d5",
   "metadata": {},
   "outputs": [],
   "source": [
    "df['AmountInUSD'] = df['AmountInUSD'].str.replace(',','').astype(int)"
   ]
  },
  {
   "cell_type": "code",
   "execution_count": 86,
   "id": "65cb60d0",
   "metadata": {},
   "outputs": [],
   "source": [
    "group = df.groupby(by='CityLocation')['AmountInUSD']"
   ]
  },
  {
   "cell_type": "code",
   "execution_count": 87,
   "id": "d381d3ce",
   "metadata": {},
   "outputs": [],
   "source": [
    "Population_of_each_group={}\n",
    "for i,j in group:\n",
    "    Population_of_each_group[i]=j.max()\n",
    "    "
   ]
  },
  {
   "cell_type": "code",
   "execution_count": 88,
   "id": "7b9e939e",
   "metadata": {},
   "outputs": [
    {
     "data": {
      "text/plain": [
       "{'Bangalore': 1400000000,\n",
       " 'Gurgaon': 250000000,\n",
       " 'Mumbai': 150000000,\n",
       " 'New Delhi': 680000000,\n",
       " 'Noida': 40000000,\n",
       " 'Pune': 56000000}"
      ]
     },
     "execution_count": 88,
     "metadata": {},
     "output_type": "execute_result"
    }
   ],
   "source": [
    "Population_of_each_group"
   ]
  },
  {
   "cell_type": "code",
   "execution_count": 89,
   "id": "d937b15e",
   "metadata": {},
   "outputs": [],
   "source": [
    "sample_of_each_group={}\n",
    "for i,j in group:\n",
    "    sample_of_each_group[i]=j.sample(20,random_state=1).max()\n",
    "    "
   ]
  },
  {
   "cell_type": "code",
   "execution_count": 90,
   "id": "0d44860b",
   "metadata": {},
   "outputs": [
    {
     "data": {
      "text/plain": [
       "{'Bangalore': 700000000,\n",
       " 'Gurgaon': 60000000,\n",
       " 'Mumbai': 150000000,\n",
       " 'New Delhi': 200000000,\n",
       " 'Noida': 15000000,\n",
       " 'Pune': 35000000}"
      ]
     },
     "execution_count": 90,
     "metadata": {},
     "output_type": "execute_result"
    }
   ],
   "source": [
    "sample_of_each_group"
   ]
  },
  {
   "cell_type": "code",
   "execution_count": 92,
   "id": "cb4f0dc6",
   "metadata": {},
   "outputs": [],
   "source": [
    "sampling_error = {}\n",
    "for i,j in Population_of_each_group.items():\n",
    "    sampling_error[i] = j  - sample_of_each_group[i]"
   ]
  },
  {
   "cell_type": "code",
   "execution_count": 93,
   "id": "90be296d",
   "metadata": {},
   "outputs": [
    {
     "data": {
      "text/plain": [
       "{'Bangalore': 700000000,\n",
       " 'Gurgaon': 190000000,\n",
       " 'Mumbai': 0,\n",
       " 'New Delhi': 480000000,\n",
       " 'Noida': 25000000,\n",
       " 'Pune': 21000000}"
      ]
     },
     "execution_count": 93,
     "metadata": {},
     "output_type": "execute_result"
    }
   ],
   "source": [
    "sampling_error"
   ]
  },
  {
   "cell_type": "code",
   "execution_count": 94,
   "id": "8de35f38",
   "metadata": {},
   "outputs": [
    {
     "data": {
      "text/plain": [
       "3.0"
      ]
     },
     "execution_count": 94,
     "metadata": {},
     "output_type": "execute_result"
    }
   ],
   "source": [
    "(54/360)*20"
   ]
  },
  {
   "cell_type": "code",
   "execution_count": 95,
   "id": "d9ac83b8",
   "metadata": {},
   "outputs": [],
   "source": [
    "l = [1, 2, 10, 6, 4, 4, 6, 3, 1, 41, 2, 10, 6, 4, 4, 6, 3, 1, 4]"
   ]
  },
  {
   "cell_type": "code",
   "execution_count": 96,
   "id": "9602ffb7",
   "metadata": {},
   "outputs": [],
   "source": [
    "l.sort()"
   ]
  },
  {
   "cell_type": "code",
   "execution_count": 101,
   "id": "bb73f68a",
   "metadata": {},
   "outputs": [],
   "source": [
    "import numpy as np"
   ]
  },
  {
   "cell_type": "code",
   "execution_count": 103,
   "id": "528481dd",
   "metadata": {},
   "outputs": [],
   "source": [
    "n = np.array(l)"
   ]
  },
  {
   "cell_type": "code",
   "execution_count": 100,
   "id": "1a071f8d",
   "metadata": {},
   "outputs": [
    {
     "data": {
      "text/plain": [
       "[1, 1, 1, 2, 2, 3, 3, 4, 4, 4, 4, 4, 6, 6, 6, 6, 10, 10, 41]"
      ]
     },
     "execution_count": 100,
     "metadata": {},
     "output_type": "execute_result"
    }
   ],
   "source": [
    "l"
   ]
  },
  {
   "cell_type": "code",
   "execution_count": 104,
   "id": "a828492c",
   "metadata": {},
   "outputs": [],
   "source": [
    "l = [90, 95, 95, 94, 90, 85, 84, 83, 85, 81, 92, 93, 82, 78, 79, 81, 80, 82, 85, 76]"
   ]
  },
  {
   "cell_type": "code",
   "execution_count": 105,
   "id": "0da79e66",
   "metadata": {},
   "outputs": [
    {
     "name": "stdout",
     "output_type": "stream",
     "text": [
      "2 90\n",
      "2 95\n",
      "2 95\n",
      "1 94\n",
      "2 90\n",
      "3 85\n",
      "1 84\n",
      "1 83\n",
      "3 85\n",
      "2 81\n",
      "1 92\n",
      "1 93\n",
      "2 82\n",
      "1 78\n",
      "1 79\n",
      "2 81\n",
      "1 80\n",
      "2 82\n",
      "3 85\n",
      "1 76\n"
     ]
    }
   ],
   "source": [
    "for i in l :\n",
    "    print(l.count(i),i)"
   ]
  },
  {
   "cell_type": "code",
   "execution_count": 106,
   "id": "6fd7a243",
   "metadata": {},
   "outputs": [],
   "source": [
    "g = {4,9,8,2,16,4,4,8,9,6}"
   ]
  },
  {
   "cell_type": "code",
   "execution_count": 107,
   "id": "b062387d",
   "metadata": {},
   "outputs": [],
   "source": [
    "l = [96, 100, 106, 114]"
   ]
  },
  {
   "cell_type": "code",
   "execution_count": 110,
   "id": "657e2334",
   "metadata": {},
   "outputs": [
    {
     "data": {
      "text/plain": [
       "104.0"
      ]
     },
     "execution_count": 110,
     "metadata": {},
     "output_type": "execute_result"
    }
   ],
   "source": [
    "sum(l)/4"
   ]
  },
  {
   "cell_type": "code",
   "execution_count": 112,
   "id": "3b7bb5df",
   "metadata": {},
   "outputs": [
    {
     "data": {
      "text/plain": [
       "103.0"
      ]
     },
     "execution_count": 112,
     "metadata": {},
     "output_type": "execute_result"
    }
   ],
   "source": [
    "(100+106)/2"
   ]
  },
  {
   "cell_type": "code",
   "execution_count": 1,
   "id": "05c723d6",
   "metadata": {},
   "outputs": [],
   "source": [
    "l = [1.52, 5.36, 6.79, 5.21, 0.28, 6.36, 8.47, 5.52, 6.26, 5.97]"
   ]
  },
  {
   "cell_type": "code",
   "execution_count": 2,
   "id": "08bb104f",
   "metadata": {},
   "outputs": [],
   "source": [
    "l.sort()"
   ]
  },
  {
   "cell_type": "code",
   "execution_count": 3,
   "id": "3a25509f",
   "metadata": {},
   "outputs": [
    {
     "data": {
      "text/plain": [
       "[0.28, 1.52, 5.21, 5.36, 5.52, 5.97, 6.26, 6.36, 6.79, 8.47]"
      ]
     },
     "execution_count": 3,
     "metadata": {},
     "output_type": "execute_result"
    }
   ],
   "source": [
    "l"
   ]
  },
  {
   "cell_type": "code",
   "execution_count": null,
   "id": "f13410d9",
   "metadata": {},
   "outputs": [],
   "source": []
  },
  {
   "cell_type": "code",
   "execution_count": 4,
   "id": "bb6956ba",
   "metadata": {},
   "outputs": [],
   "source": [
    "l = [70, 75, 80, 100]"
   ]
  },
  {
   "cell_type": "code",
   "execution_count": 5,
   "id": "06b7e7d9",
   "metadata": {},
   "outputs": [
    {
     "data": {
      "text/plain": [
       "81.25"
      ]
     },
     "execution_count": 5,
     "metadata": {},
     "output_type": "execute_result"
    }
   ],
   "source": [
    "sum(l)/4"
   ]
  },
  {
   "cell_type": "code",
   "execution_count": null,
   "id": "336a7b84",
   "metadata": {},
   "outputs": [],
   "source": []
  },
  {
   "cell_type": "code",
   "execution_count": null,
   "id": "8bcfda83",
   "metadata": {},
   "outputs": [],
   "source": []
  }
 ],
 "metadata": {
  "kernelspec": {
   "display_name": "Python 3 (ipykernel)",
   "language": "python",
   "name": "python3"
  },
  "language_info": {
   "codemirror_mode": {
    "name": "ipython",
    "version": 3
   },
   "file_extension": ".py",
   "mimetype": "text/x-python",
   "name": "python",
   "nbconvert_exporter": "python",
   "pygments_lexer": "ipython3",
   "version": "3.10.4"
  }
 },
 "nbformat": 4,
 "nbformat_minor": 5
}
